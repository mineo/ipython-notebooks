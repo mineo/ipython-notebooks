{
 "cells": [
  {
   "cell_type": "code",
   "execution_count": 1,
   "metadata": {
    "collapsed": false
   },
   "outputs": [
    {
     "name": "stdout",
     "output_type": "stream",
     "text": [
      "Populating the interactive namespace from numpy and matplotlib\n"
     ]
    }
   ],
   "source": [
    "%pylab inline\n",
    "matplotlib.style.use(\"ggplot\")\n",
    "import pandas\n"
   ]
  },
  {
   "cell_type": "markdown",
   "metadata": {},
   "source": [
    "Die Datensätze, die in diesem Notebook verwendet werden, sind im Open-Data-Portal der Deutschen Bahn von der DB Station&Service AG veröffentlicht wurden ([1](http://data.deutschebahn.com/datasets/stationsdaten/), [2](http://data.deutschebahn.com/datasets/bahnsteig/)) und unterliegen der [Creative Commons Attribution 4.0 International (CC BY 4.0)](https://creativecommons.org/licenses/by/4.0/)-Lizenz."
   ]
  },
  {
   "cell_type": "code",
   "execution_count": 2,
   "metadata": {
    "collapsed": false
   },
   "outputs": [],
   "source": [
    "data1 = pandas.read_csv(\"http://data.deutschebahn.com/datasets/bahnsteig/DBSuS-Bahnsteigdaten-Stand2015-10.csv\", sep=';')\n",
    "data2 = pandas.read_csv(\"http://data.deutschebahn.com/datasets/stationsdaten/DBSuS-Uebersicht_Bahnhoefe-Stand2015-10.csv\", sep=';')[[\"Bf. Nr.\", \"Station\", \"Fernverkehr\", \"Nahverkehr\"]]\n",
    "data = data1.merge(data2, right_on=\"Bf. Nr.\", left_on=\"bf_nr\").drop(\"Bf. Nr.\", 1)\n",
    "data.columns\n",
    "data.columns = [\"Bahnhofsnummer\", \"Bahnsteigsnummer\", \"Bahnsteigskantennummer\", \"Bezeichnung\", \"Baulaenge\", \"Kantenhoehe\", \"Bahnhofsname\", \"Fernverkehr\", \"Nahverkehr\"]\n",
    "data[[\"Baulaenge\"]] = data[\"Baulaenge\"].map(lambda v: v.replace(\",\", \".\")).astype(\"float\")\n",
    "data[[\"Fernverkehr\"]] = data[\"Fernverkehr\"].map(lambda v: True if v == \"ja\" else False)\n",
    "data[[\"Nahverkehr\"]] = data[\"Nahverkehr\"].map(lambda v: True if v == \"ja\" else False)\n",
    "data[[\"Bahnhofsname\"]] = data[\"Bahnhofsname\"].map(lambda v: v.decode(\"iso-8859-1\").encode(\"utf-8\"))"
   ]
  },
  {
   "cell_type": "code",
   "execution_count": 3,
   "metadata": {
    "collapsed": true
   },
   "outputs": [],
   "source": [
    "def plot_hist(data, xtickstep=1):\n",
    "    dmax = data.max()\n",
    "    data.plot(kind='hist', xticks=np.arange(0, dmax, xtickstep), bins=np.arange(0, dmax) + 0.5, logy=True, width=0.8)\n",
    "    plt.xlim([0, dmax.item()])"
   ]
  },
  {
   "cell_type": "markdown",
   "metadata": {},
   "source": [
    "# Gleise"
   ]
  },
  {
   "cell_type": "code",
   "execution_count": 4,
   "metadata": {
    "collapsed": false,
    "scrolled": true
   },
   "outputs": [
    {
     "data": {
      "text/html": [
       "<div>\n",
       "<table border=\"1\" class=\"dataframe\">\n",
       "  <thead>\n",
       "    <tr style=\"text-align: right;\">\n",
       "      <th></th>\n",
       "      <th></th>\n",
       "      <th>Anzahl Gleise</th>\n",
       "    </tr>\n",
       "    <tr>\n",
       "      <th>Bahnhofsnummer</th>\n",
       "      <th>Bahnhofsname</th>\n",
       "      <th></th>\n",
       "    </tr>\n",
       "  </thead>\n",
       "  <tbody>\n",
       "    <tr>\n",
       "      <th>4234</th>\n",
       "      <th>München Hbf</th>\n",
       "      <td>38</td>\n",
       "    </tr>\n",
       "    <tr>\n",
       "      <th>1866</th>\n",
       "      <th>Frankfurt (Main) Hbf</th>\n",
       "      <td>31</td>\n",
       "    </tr>\n",
       "    <tr>\n",
       "      <th>3631</th>\n",
       "      <th>Leipzig Hbf</th>\n",
       "      <td>22</td>\n",
       "    </tr>\n",
       "    <tr>\n",
       "      <th>4593</th>\n",
       "      <th>Nürnberg Hbf</th>\n",
       "      <td>22</td>\n",
       "    </tr>\n",
       "    <tr>\n",
       "      <th>6071</th>\n",
       "      <th>Stuttgart Hbf</th>\n",
       "      <td>18</td>\n",
       "    </tr>\n",
       "    <tr>\n",
       "      <th>1289</th>\n",
       "      <th>Dortmund Hbf</th>\n",
       "      <td>16</td>\n",
       "    </tr>\n",
       "    <tr>\n",
       "      <th>1401</th>\n",
       "      <th>Düsseldorf Hbf</th>\n",
       "      <td>16</td>\n",
       "    </tr>\n",
       "    <tr>\n",
       "      <th>2457</th>\n",
       "      <th>Hagen Hbf</th>\n",
       "      <td>16</td>\n",
       "    </tr>\n",
       "    <tr>\n",
       "      <th>3107</th>\n",
       "      <th>Karlsruhe Hbf</th>\n",
       "      <td>16</td>\n",
       "    </tr>\n",
       "    <tr>\n",
       "      <th>1343</th>\n",
       "      <th>Dresden Hbf</th>\n",
       "      <td>15</td>\n",
       "    </tr>\n",
       "  </tbody>\n",
       "</table>\n",
       "</div>"
      ],
      "text/plain": [
       "                                     Anzahl Gleise\n",
       "Bahnhofsnummer Bahnhofsname                       \n",
       "4234           München Hbf                      38\n",
       "1866           Frankfurt (Main) Hbf             31\n",
       "3631           Leipzig Hbf                      22\n",
       "4593           Nürnberg Hbf                     22\n",
       "6071           Stuttgart Hbf                    18\n",
       "1289           Dortmund Hbf                     16\n",
       "1401           Düsseldorf Hbf                   16\n",
       "2457           Hagen Hbf                        16\n",
       "3107           Karlsruhe Hbf                    16\n",
       "1343           Dresden Hbf                      15"
      ]
     },
     "execution_count": 4,
     "metadata": {},
     "output_type": "execute_result"
    }
   ],
   "source": [
    "d = data[[\"Bahnhofsnummer\", \"Bahnhofsname\", \"Bahnsteigsnummer\", \"Bezeichnung\"]].drop_duplicates().drop([\"Bahnsteigsnummer\"], 1).groupby([\"Bahnhofsnummer\", \"Bahnhofsname\"]).count()\n",
    "d.columns = [\"Anzahl Gleise\"]\n",
    "d.nlargest(10, \"Anzahl Gleise\")"
   ]
  },
  {
   "cell_type": "code",
   "execution_count": 5,
   "metadata": {
    "collapsed": false,
    "scrolled": false
   },
   "outputs": [
    {
     "data": {
      "text/html": [
       "<div>\n",
       "<table border=\"1\" class=\"dataframe\">\n",
       "  <thead>\n",
       "    <tr style=\"text-align: right;\">\n",
       "      <th></th>\n",
       "      <th>Anzahl Gleise</th>\n",
       "    </tr>\n",
       "  </thead>\n",
       "  <tbody>\n",
       "    <tr>\n",
       "      <th>count</th>\n",
       "      <td>5369.000000</td>\n",
       "    </tr>\n",
       "    <tr>\n",
       "      <th>mean</th>\n",
       "      <td>2.221829</td>\n",
       "    </tr>\n",
       "    <tr>\n",
       "      <th>std</th>\n",
       "      <td>1.637558</td>\n",
       "    </tr>\n",
       "    <tr>\n",
       "      <th>min</th>\n",
       "      <td>1.000000</td>\n",
       "    </tr>\n",
       "    <tr>\n",
       "      <th>25%</th>\n",
       "      <td>1.000000</td>\n",
       "    </tr>\n",
       "    <tr>\n",
       "      <th>50%</th>\n",
       "      <td>2.000000</td>\n",
       "    </tr>\n",
       "    <tr>\n",
       "      <th>75%</th>\n",
       "      <td>2.000000</td>\n",
       "    </tr>\n",
       "    <tr>\n",
       "      <th>max</th>\n",
       "      <td>38.000000</td>\n",
       "    </tr>\n",
       "  </tbody>\n",
       "</table>\n",
       "</div>"
      ],
      "text/plain": [
       "       Anzahl Gleise\n",
       "count    5369.000000\n",
       "mean        2.221829\n",
       "std         1.637558\n",
       "min         1.000000\n",
       "25%         1.000000\n",
       "50%         2.000000\n",
       "75%         2.000000\n",
       "max        38.000000"
      ]
     },
     "execution_count": 5,
     "metadata": {},
     "output_type": "execute_result"
    }
   ],
   "source": [
    "d.describe()"
   ]
  },
  {
   "cell_type": "code",
   "execution_count": 6,
   "metadata": {
    "collapsed": false,
    "scrolled": false
   },
   "outputs": [
    {
     "data": {
      "image/png": "[encoded data removed]",
      "text/plain": [
       "<matplotlib.figure.Figure at 0x7fbfd67cbad0>"
      ]
     },
     "metadata": {},
     "output_type": "display_data"
    }
   ],
   "source": [
    "plot_hist(d, xtickstep=2)"
   ]
  },
  {
   "cell_type": "markdown",
   "metadata": {},
   "source": [
    "# Bahnsteige"
   ]
  },
  {
   "cell_type": "code",
   "execution_count": 7,
   "metadata": {
    "collapsed": false
   },
   "outputs": [],
   "source": [
    "bf_bs = data[[\"Bahnhofsnummer\", \"Bahnhofsname\", \"Bahnsteigsnummer\"]].drop_duplicates().groupby([\"Bahnhofsnummer\", \"Bahnhofsname\"])"
   ]
  },
  {
   "cell_type": "code",
   "execution_count": 8,
   "metadata": {
    "collapsed": false
   },
   "outputs": [
    {
     "data": {
      "text/html": [
       "<div>\n",
       "<table border=\"1\" class=\"dataframe\">\n",
       "  <thead>\n",
       "    <tr style=\"text-align: right;\">\n",
       "      <th></th>\n",
       "      <th>Anzahl Bahnsteige</th>\n",
       "    </tr>\n",
       "  </thead>\n",
       "  <tbody>\n",
       "    <tr>\n",
       "      <th>count</th>\n",
       "      <td>5369.000000</td>\n",
       "    </tr>\n",
       "    <tr>\n",
       "      <th>mean</th>\n",
       "      <td>1.726765</td>\n",
       "    </tr>\n",
       "    <tr>\n",
       "      <th>std</th>\n",
       "      <td>0.871190</td>\n",
       "    </tr>\n",
       "    <tr>\n",
       "      <th>min</th>\n",
       "      <td>1.000000</td>\n",
       "    </tr>\n",
       "    <tr>\n",
       "      <th>25%</th>\n",
       "      <td>1.000000</td>\n",
       "    </tr>\n",
       "    <tr>\n",
       "      <th>50%</th>\n",
       "      <td>2.000000</td>\n",
       "    </tr>\n",
       "    <tr>\n",
       "      <th>75%</th>\n",
       "      <td>2.000000</td>\n",
       "    </tr>\n",
       "    <tr>\n",
       "      <th>max</th>\n",
       "      <td>20.000000</td>\n",
       "    </tr>\n",
       "  </tbody>\n",
       "</table>\n",
       "</div>"
      ],
      "text/plain": [
       "       Anzahl Bahnsteige\n",
       "count        5369.000000\n",
       "mean            1.726765\n",
       "std             0.871190\n",
       "min             1.000000\n",
       "25%             1.000000\n",
       "50%             2.000000\n",
       "75%             2.000000\n",
       "max            20.000000"
      ]
     },
     "execution_count": 8,
     "metadata": {},
     "output_type": "execute_result"
    }
   ],
   "source": [
    "bs_count = bf_bs.aggregate(len)\n",
    "bs_count.columns = ['Anzahl Bahnsteige']\n",
    "bs_count.describe()"
   ]
  },
  {
   "cell_type": "code",
   "execution_count": 9,
   "metadata": {
    "collapsed": false,
    "scrolled": true
   },
   "outputs": [
    {
     "data": {
      "text/html": [
       "<div>\n",
       "<table border=\"1\" class=\"dataframe\">\n",
       "  <thead>\n",
       "    <tr style=\"text-align: right;\">\n",
       "      <th></th>\n",
       "      <th></th>\n",
       "      <th>Anzahl Bahnsteige</th>\n",
       "    </tr>\n",
       "    <tr>\n",
       "      <th>Bahnhofsnummer</th>\n",
       "      <th>Bahnhofsname</th>\n",
       "      <th></th>\n",
       "    </tr>\n",
       "  </thead>\n",
       "  <tbody>\n",
       "    <tr>\n",
       "      <th>4234</th>\n",
       "      <th>München Hbf</th>\n",
       "      <td>20</td>\n",
       "    </tr>\n",
       "    <tr>\n",
       "      <th>1866</th>\n",
       "      <th>Frankfurt (Main) Hbf</th>\n",
       "      <td>17</td>\n",
       "    </tr>\n",
       "    <tr>\n",
       "      <th>4593</th>\n",
       "      <th>Nürnberg Hbf</th>\n",
       "      <td>12</td>\n",
       "    </tr>\n",
       "    <tr>\n",
       "      <th>3631</th>\n",
       "      <th>Leipzig Hbf</th>\n",
       "      <td>10</td>\n",
       "    </tr>\n",
       "    <tr>\n",
       "      <th>1343</th>\n",
       "      <th>Dresden Hbf</th>\n",
       "      <td>9</td>\n",
       "    </tr>\n",
       "    <tr>\n",
       "      <th>3107</th>\n",
       "      <th>Karlsruhe Hbf</th>\n",
       "      <td>9</td>\n",
       "    </tr>\n",
       "    <tr>\n",
       "      <th>6071</th>\n",
       "      <th>Stuttgart Hbf</th>\n",
       "      <td>9</td>\n",
       "    </tr>\n",
       "    <tr>\n",
       "      <th>1289</th>\n",
       "      <th>Dortmund Hbf</th>\n",
       "      <td>8</td>\n",
       "    </tr>\n",
       "    <tr>\n",
       "      <th>1401</th>\n",
       "      <th>Düsseldorf Hbf</th>\n",
       "      <td>8</td>\n",
       "    </tr>\n",
       "    <tr>\n",
       "      <th>85</th>\n",
       "      <th>Altenbeken</th>\n",
       "      <td>7</td>\n",
       "    </tr>\n",
       "  </tbody>\n",
       "</table>\n",
       "</div>"
      ],
      "text/plain": [
       "                                     Anzahl Bahnsteige\n",
       "Bahnhofsnummer Bahnhofsname                           \n",
       "4234           München Hbf                          20\n",
       "1866           Frankfurt (Main) Hbf                 17\n",
       "4593           Nürnberg Hbf                         12\n",
       "3631           Leipzig Hbf                          10\n",
       "1343           Dresden Hbf                           9\n",
       "3107           Karlsruhe Hbf                         9\n",
       "6071           Stuttgart Hbf                         9\n",
       "1289           Dortmund Hbf                          8\n",
       "1401           Düsseldorf Hbf                        8\n",
       "85             Altenbeken                            7"
      ]
     },
     "execution_count": 9,
     "metadata": {},
     "output_type": "execute_result"
    }
   ],
   "source": [
    "bs_count.nlargest(10, \"Anzahl Bahnsteige\")"
   ]
  },
  {
   "cell_type": "code",
   "execution_count": 10,
   "metadata": {
    "collapsed": false,
    "scrolled": false
   },
   "outputs": [
    {
     "data": {
      "text/plain": [
       "(8, 20)"
      ]
     },
     "execution_count": 10,
     "metadata": {},
     "output_type": "execute_result"
    },
    {
     "data": {
      "image/png": "[encoded data removed]",
      "text/plain": [
       "<matplotlib.figure.Figure at 0x7fbfb2cd1490>"
      ]
     },
     "metadata": {},
     "output_type": "display_data"
    },
    {
     "data": {
      "text/plain": [
       "<matplotlib.figure.Figure at 0x7fbfb294dd90>"
      ]
     },
     "metadata": {},
     "output_type": "display_data"
    },
    {
     "data": {
      "image/png": "[encoded data removed]",
      "text/plain": [
       "<matplotlib.figure.Figure at 0x7fbfb278ff50>"
      ]
     },
     "metadata": {},
     "output_type": "display_data"
    }
   ],
   "source": [
    "plot_hist(bs_count)\n",
    "plt.figure()\n",
    "cutoff = bs_count[bs_count[\"Anzahl Bahnsteige\"] > 8]\n",
    "dmax = cutoff.max()\n",
    "cutoff.plot(kind='hist', bins=np.arange(8, 20)-0.5, xticks=np.arange(8, 20), width=0.8)\n",
    "plt.xlim([8, dmax.item()])"
   ]
  },
  {
   "cell_type": "markdown",
   "metadata": {},
   "source": [
    "## Baulänge\n",
    "\n",
    "Zuerst entfernen wir Zeilen, die über alle Spalten Duplikate sind, sodass ein Bahnsteig mit einer spezifischen Länge nur noch einmal enthalten ist. Das entfernt 2 Fälle:\n",
    "\n",
    "* an einem Bahnsteig ist links ein Gleis X, rechts ein Gleis Y, links und rechts ist der Bahnsteig gleich lang\n",
    "* mehr als 1 Gleis ist an einem Bahnsteig und der Längenwert für einen Bahnsteig unterscheidet sich zwischen den einzelnen Gleisen, weil sie sich eine Bahnsteigplattform teilen. Der Hbf Erfurt bspw. hat einen Bahnsteig B02, an dem 6 verschiedene Gleise anliegen, davon aber 2 gleich lang sind."
   ]
  },
  {
   "cell_type": "code",
   "execution_count": 11,
   "metadata": {
    "collapsed": false
   },
   "outputs": [],
   "source": [
    "d = data[[\"Bahnhofsnummer\", \"Bahnhofsname\", \"Bahnsteigsnummer\", \"Baulaenge\"]].drop_duplicates()\n",
    "d = d.assign(Baulaenge=d[\"Baulaenge\"]/1000)"
   ]
  },
  {
   "cell_type": "markdown",
   "metadata": {},
   "source": [
    "Mal sehen, wie viele Kilometer Bahnsteig es gibt…"
   ]
  },
  {
   "cell_type": "code",
   "execution_count": 12,
   "metadata": {
    "collapsed": false
   },
   "outputs": [
    {
     "data": {
      "text/plain": [
       "1788.048370000018"
      ]
     },
     "execution_count": 12,
     "metadata": {},
     "output_type": "execute_result"
    }
   ],
   "source": [
    "d[\"Baulaenge\"].sum()"
   ]
  },
  {
   "cell_type": "markdown",
   "metadata": {},
   "source": [
    "[Wolframalpha](https://www.wolframalpha.com/input/?i=1788%20km&dataset=) weiß mehr über diese Länge.\n",
    "\n",
    "…und welche Bahnhöfe die meisten Kilometer Bahnsteig auf sich vereinen"
   ]
  },
  {
   "cell_type": "code",
   "execution_count": 13,
   "metadata": {
    "collapsed": false
   },
   "outputs": [],
   "source": [
    "summed_length = d.groupby([\"Bahnhofsnummer\", \"Bahnhofsname\"]).sum()"
   ]
  },
  {
   "cell_type": "code",
   "execution_count": 14,
   "metadata": {
    "collapsed": false,
    "scrolled": true
   },
   "outputs": [
    {
     "data": {
      "text/html": [
       "<div>\n",
       "<table border=\"1\" class=\"dataframe\">\n",
       "  <thead>\n",
       "    <tr style=\"text-align: right;\">\n",
       "      <th></th>\n",
       "      <th></th>\n",
       "      <th>Baulaenge</th>\n",
       "    </tr>\n",
       "    <tr>\n",
       "      <th>Bahnhofsnummer</th>\n",
       "      <th>Bahnhofsname</th>\n",
       "      <th></th>\n",
       "    </tr>\n",
       "  </thead>\n",
       "  <tbody>\n",
       "    <tr>\n",
       "      <th>4234</th>\n",
       "      <th>München Hbf</th>\n",
       "      <td>6.7880</td>\n",
       "    </tr>\n",
       "    <tr>\n",
       "      <th>3107</th>\n",
       "      <th>Karlsruhe Hbf</th>\n",
       "      <td>5.4762</td>\n",
       "    </tr>\n",
       "    <tr>\n",
       "      <th>1866</th>\n",
       "      <th>Frankfurt (Main) Hbf</th>\n",
       "      <td>5.3670</td>\n",
       "    </tr>\n",
       "    <tr>\n",
       "      <th>3631</th>\n",
       "      <th>Leipzig Hbf</th>\n",
       "      <td>4.8390</td>\n",
       "    </tr>\n",
       "    <tr>\n",
       "      <th>1401</th>\n",
       "      <th>Düsseldorf Hbf</th>\n",
       "      <td>4.4560</td>\n",
       "    </tr>\n",
       "    <tr>\n",
       "      <th>1690</th>\n",
       "      <th>Essen Hbf</th>\n",
       "      <td>3.9460</td>\n",
       "    </tr>\n",
       "    <tr>\n",
       "      <th>4593</th>\n",
       "      <th>Nürnberg Hbf</th>\n",
       "      <td>3.8500</td>\n",
       "    </tr>\n",
       "    <tr>\n",
       "      <th>3837</th>\n",
       "      <th>Ludwigshafen (Rhein) Hbf</th>\n",
       "      <td>3.5870</td>\n",
       "    </tr>\n",
       "    <tr>\n",
       "      <th>6071</th>\n",
       "      <th>Stuttgart Hbf</th>\n",
       "      <td>3.5430</td>\n",
       "    </tr>\n",
       "    <tr>\n",
       "      <th>2545</th>\n",
       "      <th>Hannover Hbf</th>\n",
       "      <td>3.4709</td>\n",
       "    </tr>\n",
       "  </tbody>\n",
       "</table>\n",
       "</div>"
      ],
      "text/plain": [
       "                                         Baulaenge\n",
       "Bahnhofsnummer Bahnhofsname                       \n",
       "4234           München Hbf                  6.7880\n",
       "3107           Karlsruhe Hbf                5.4762\n",
       "1866           Frankfurt (Main) Hbf         5.3670\n",
       "3631           Leipzig Hbf                  4.8390\n",
       "1401           Düsseldorf Hbf               4.4560\n",
       "1690           Essen Hbf                    3.9460\n",
       "4593           Nürnberg Hbf                 3.8500\n",
       "3837           Ludwigshafen (Rhein) Hbf     3.5870\n",
       "6071           Stuttgart Hbf                3.5430\n",
       "2545           Hannover Hbf                 3.4709"
      ]
     },
     "execution_count": 14,
     "metadata": {},
     "output_type": "execute_result"
    }
   ],
   "source": [
    "summed_length.nlargest(10, \"Baulaenge\")"
   ]
  },
  {
   "cell_type": "markdown",
   "metadata": {},
   "source": [
    "…und welche die wenigsten"
   ]
  },
  {
   "cell_type": "code",
   "execution_count": 15,
   "metadata": {
    "collapsed": false,
    "scrolled": true
   },
   "outputs": [
    {
     "data": {
      "text/html": [
       "<div>\n",
       "<table border=\"1\" class=\"dataframe\">\n",
       "  <thead>\n",
       "    <tr style=\"text-align: right;\">\n",
       "      <th></th>\n",
       "      <th></th>\n",
       "      <th>Baulaenge</th>\n",
       "    </tr>\n",
       "    <tr>\n",
       "      <th>Bahnhofsnummer</th>\n",
       "      <th>Bahnhofsname</th>\n",
       "      <th></th>\n",
       "    </tr>\n",
       "  </thead>\n",
       "  <tbody>\n",
       "    <tr>\n",
       "      <th>6245</th>\n",
       "      <th>Trebitz (b Könnern)</th>\n",
       "      <td>0.025</td>\n",
       "    </tr>\n",
       "    <tr>\n",
       "      <th>632</th>\n",
       "      <th>Biesenrode</th>\n",
       "      <td>0.030</td>\n",
       "    </tr>\n",
       "    <tr>\n",
       "      <th>1961</th>\n",
       "      <th>Friesdorf Ost</th>\n",
       "      <td>0.030</td>\n",
       "    </tr>\n",
       "    <tr>\n",
       "      <th>6012</th>\n",
       "      <th>Stendal Vorbf</th>\n",
       "      <td>0.030</td>\n",
       "    </tr>\n",
       "    <tr>\n",
       "      <th>7481</th>\n",
       "      <th>Wieslensdorf</th>\n",
       "      <td>0.030</td>\n",
       "    </tr>\n",
       "    <tr>\n",
       "      <th>7965</th>\n",
       "      <th>Vatteröder Teich</th>\n",
       "      <td>0.030</td>\n",
       "    </tr>\n",
       "    <tr>\n",
       "      <th>7973</th>\n",
       "      <th>Tangermünde West</th>\n",
       "      <td>0.030</td>\n",
       "    </tr>\n",
       "    <tr>\n",
       "      <th>8021</th>\n",
       "      <th>Klostermansfeld Randsiedlung</th>\n",
       "      <td>0.030</td>\n",
       "    </tr>\n",
       "    <tr>\n",
       "      <th>8234</th>\n",
       "      <th>Calbe (Saale) Stadt</th>\n",
       "      <td>0.030</td>\n",
       "    </tr>\n",
       "    <tr>\n",
       "      <th>1960</th>\n",
       "      <th>Friesdorf</th>\n",
       "      <td>0.033</td>\n",
       "    </tr>\n",
       "  </tbody>\n",
       "</table>\n",
       "</div>"
      ],
      "text/plain": [
       "                                             Baulaenge\n",
       "Bahnhofsnummer Bahnhofsname                           \n",
       "6245           Trebitz (b Könnern)               0.025\n",
       "632            Biesenrode                        0.030\n",
       "1961           Friesdorf Ost                     0.030\n",
       "6012           Stendal Vorbf                     0.030\n",
       "7481           Wieslensdorf                      0.030\n",
       "7965           Vatteröder Teich                  0.030\n",
       "7973           Tangermünde West                  0.030\n",
       "8021           Klostermansfeld Randsiedlung      0.030\n",
       "8234           Calbe (Saale) Stadt               0.030\n",
       "1960           Friesdorf                         0.033"
      ]
     },
     "execution_count": 15,
     "metadata": {},
     "output_type": "execute_result"
    }
   ],
   "source": [
    "summed_length.nsmallest(10, \"Baulaenge\")"
   ]
  },
  {
   "cell_type": "code",
   "execution_count": 16,
   "metadata": {
    "collapsed": false,
    "scrolled": true
   },
   "outputs": [
    {
     "data": {
      "text/plain": [
       "<matplotlib.axes._subplots.AxesSubplot at 0x7fbfb27bb310>"
      ]
     },
     "execution_count": 16,
     "metadata": {},
     "output_type": "execute_result"
    },
    {
     "data": {
      "image/png": "[encoded data removed]",
      "text/plain": [
       "<matplotlib.figure.Figure at 0x7fbfb259d310>"
      ]
     },
     "metadata": {},
     "output_type": "display_data"
    }
   ],
   "source": [
    "summed_length.boxplot(return_type='axes', vert=False)"
   ]
  },
  {
   "cell_type": "markdown",
   "metadata": {},
   "source": [
    "# Fern- und Nahverkehr"
   ]
  },
  {
   "cell_type": "code",
   "execution_count": 17,
   "metadata": {
    "collapsed": false
   },
   "outputs": [
    {
     "name": "stdout",
     "output_type": "stream",
     "text": [
      "Der Fernverkehr verkehrt an 306 von 5369 Bahnhöfen (das sind 5.70%)\n",
      "Der Nahverkehr verkehrt an 5282 von 5369 Bahnhöfen (das sind 98.38%)\n"
     ]
    },
    {
     "data": {
      "text/plain": [
       "<matplotlib.figure.Figure at 0x7fbfb2567f10>"
      ]
     },
     "metadata": {},
     "output_type": "display_data"
    },
    {
     "data": {
      "image/png": "[encoded data removed]",
      "text/plain": [
       "<matplotlib.figure.Figure at 0x7fbfb2d318d0>"
      ]
     },
     "metadata": {},
     "output_type": "display_data"
    },
    {
     "data": {
      "text/plain": [
       "<matplotlib.figure.Figure at 0x7fbfb2d23a90>"
      ]
     },
     "metadata": {},
     "output_type": "display_data"
    },
    {
     "data": {
      "image/png": "[encoded data removed]",
      "text/plain": [
       "<matplotlib.figure.Figure at 0x7fbfb2683a50>"
      ]
     },
     "metadata": {},
     "output_type": "display_data"
    }
   ],
   "source": [
    "for col in [\"Fernverkehr\", \"Nahverkehr\"]:\n",
    "    d = data[[\"Bahnhofsnummer\", col]].drop_duplicates().groupby(col).count()\n",
    "    does = d.Bahnhofsnummer[True]\n",
    "    count = d.sum()\n",
    "    print(\"Der %s verkehrt an %i von %i Bahnhöfen (das sind %.2f%%)\" % (col, does, count, does/count*100))\n",
    "    d.columns = [\"%s verkehrt am Bahnhof\" % col]\n",
    "    plt.figure()\n",
    "    d.plot(kind='pie', subplots=True)\n"
   ]
  },
  {
   "cell_type": "markdown",
   "metadata": {},
   "source": [
    "Anscheinend findet an einigen Bahnhöfen kein Nahverkehr statt - welche sind das?"
   ]
  },
  {
   "cell_type": "code",
   "execution_count": 21,
   "metadata": {
    "collapsed": false,
    "scrolled": true
   },
   "outputs": [
    {
     "data": {
      "text/html": [
       "<div>\n",
       "<table border=\"1\" class=\"dataframe\">\n",
       "  <thead>\n",
       "    <tr style=\"text-align: right;\">\n",
       "      <th></th>\n",
       "      <th>Bahnhofsname</th>\n",
       "      <th>Nahverkehr</th>\n",
       "      <th>Fernverkehr</th>\n",
       "    </tr>\n",
       "  </thead>\n",
       "  <tbody>\n",
       "    <tr>\n",
       "      <th>178</th>\n",
       "      <td>Frankfurt am Main Flughafen Fernbahnhof</td>\n",
       "      <td>False</td>\n",
       "      <td>True</td>\n",
       "    </tr>\n",
       "    <tr>\n",
       "      <th>459</th>\n",
       "      <td>Limburg Süd</td>\n",
       "      <td>False</td>\n",
       "      <td>True</td>\n",
       "    </tr>\n",
       "  </tbody>\n",
       "</table>\n",
       "</div>"
      ],
      "text/plain": [
       "                                Bahnhofsname Nahverkehr Fernverkehr\n",
       "178  Frankfurt am Main Flughafen Fernbahnhof      False        True\n",
       "459                              Limburg Süd      False        True"
      ]
     },
     "execution_count": 21,
     "metadata": {},
     "output_type": "execute_result"
    }
   ],
   "source": [
    "d = data[[\"Bahnhofsname\", \"Nahverkehr\", \"Fernverkehr\"]].drop_duplicates().groupby((\"Nahverkehr\", \"Fernverkehr\"))\n",
    "d.get_group((False, True))"
   ]
  },
  {
   "cell_type": "markdown",
   "metadata": {},
   "source": [
    "Findet an manchen weder Fern- noch Nahverkehrt statt?"
   ]
  },
  {
   "cell_type": "code",
   "execution_count": 22,
   "metadata": {
    "collapsed": false,
    "scrolled": true
   },
   "outputs": [
    {
     "data": {
      "text/html": [
       "<div>\n",
       "<table border=\"1\" class=\"dataframe\">\n",
       "  <thead>\n",
       "    <tr style=\"text-align: right;\">\n",
       "      <th></th>\n",
       "      <th>Bahnhofsname</th>\n",
       "      <th>Nahverkehr</th>\n",
       "      <th>Fernverkehr</th>\n",
       "    </tr>\n",
       "  </thead>\n",
       "  <tbody>\n",
       "    <tr>\n",
       "      <th>148</th>\n",
       "      <td>Pfungstadt</td>\n",
       "      <td>False</td>\n",
       "      <td>False</td>\n",
       "    </tr>\n",
       "    <tr>\n",
       "      <th>556</th>\n",
       "      <td>Annweiler-Sarnstall</td>\n",
       "      <td>False</td>\n",
       "      <td>False</td>\n",
       "    </tr>\n",
       "    <tr>\n",
       "      <th>601</th>\n",
       "      <td>Frankenthal-Süd</td>\n",
       "      <td>False</td>\n",
       "      <td>False</td>\n",
       "    </tr>\n",
       "    <tr>\n",
       "      <th>679</th>\n",
       "      <td>Landau (Pfalz) Süd</td>\n",
       "      <td>False</td>\n",
       "      <td>False</td>\n",
       "    </tr>\n",
       "    <tr>\n",
       "      <th>712</th>\n",
       "      <td>Neustadt Süd</td>\n",
       "      <td>False</td>\n",
       "      <td>False</td>\n",
       "    </tr>\n",
       "    <tr>\n",
       "      <th>795</th>\n",
       "      <td>Wörth Zügelstraße</td>\n",
       "      <td>False</td>\n",
       "      <td>False</td>\n",
       "    </tr>\n",
       "    <tr>\n",
       "      <th>1329</th>\n",
       "      <td>Dienheim</td>\n",
       "      <td>False</td>\n",
       "      <td>False</td>\n",
       "    </tr>\n",
       "    <tr>\n",
       "      <th>1477</th>\n",
       "      <td>Burbach Mitte</td>\n",
       "      <td>False</td>\n",
       "      <td>False</td>\n",
       "    </tr>\n",
       "    <tr>\n",
       "      <th>2951</th>\n",
       "      <td>Oldenburg-Wechloy</td>\n",
       "      <td>False</td>\n",
       "      <td>False</td>\n",
       "    </tr>\n",
       "    <tr>\n",
       "      <th>3013</th>\n",
       "      <td>Kirchhammelwarden</td>\n",
       "      <td>False</td>\n",
       "      <td>False</td>\n",
       "    </tr>\n",
       "    <tr>\n",
       "      <th>3061</th>\n",
       "      <td>Achterwehr</td>\n",
       "      <td>False</td>\n",
       "      <td>False</td>\n",
       "    </tr>\n",
       "    <tr>\n",
       "      <th>3093</th>\n",
       "      <td>Bredenbek</td>\n",
       "      <td>False</td>\n",
       "      <td>False</td>\n",
       "    </tr>\n",
       "    <tr>\n",
       "      <th>3181</th>\n",
       "      <td>Kiel-Russee</td>\n",
       "      <td>False</td>\n",
       "      <td>False</td>\n",
       "    </tr>\n",
       "    <tr>\n",
       "      <th>3188</th>\n",
       "      <td>Kronshagen</td>\n",
       "      <td>False</td>\n",
       "      <td>False</td>\n",
       "    </tr>\n",
       "    <tr>\n",
       "      <th>3196</th>\n",
       "      <td>Lübeck Dänischburg IKEA</td>\n",
       "      <td>False</td>\n",
       "      <td>False</td>\n",
       "    </tr>\n",
       "    <tr>\n",
       "      <th>3206</th>\n",
       "      <td>Lübeck Hochschulstadtteil</td>\n",
       "      <td>False</td>\n",
       "      <td>False</td>\n",
       "    </tr>\n",
       "    <tr>\n",
       "      <th>3217</th>\n",
       "      <td>Melsdorf</td>\n",
       "      <td>False</td>\n",
       "      <td>False</td>\n",
       "    </tr>\n",
       "    <tr>\n",
       "      <th>3271</th>\n",
       "      <td>Schülldorf</td>\n",
       "      <td>False</td>\n",
       "      <td>False</td>\n",
       "    </tr>\n",
       "    <tr>\n",
       "      <th>3989</th>\n",
       "      <td>Blumberg-Rehhahn</td>\n",
       "      <td>False</td>\n",
       "      <td>False</td>\n",
       "    </tr>\n",
       "    <tr>\n",
       "      <th>4299</th>\n",
       "      <td>Ludwigsfelde-Struveshof</td>\n",
       "      <td>False</td>\n",
       "      <td>False</td>\n",
       "    </tr>\n",
       "    <tr>\n",
       "      <th>4373</th>\n",
       "      <td>Zellendorf</td>\n",
       "      <td>False</td>\n",
       "      <td>False</td>\n",
       "    </tr>\n",
       "    <tr>\n",
       "      <th>4409</th>\n",
       "      <td>Langhagen</td>\n",
       "      <td>False</td>\n",
       "      <td>False</td>\n",
       "    </tr>\n",
       "    <tr>\n",
       "      <th>4798</th>\n",
       "      <td>Graben (Lechfeld) Gewerbepark</td>\n",
       "      <td>False</td>\n",
       "      <td>False</td>\n",
       "    </tr>\n",
       "    <tr>\n",
       "      <th>5488</th>\n",
       "      <td>München-Freiham</td>\n",
       "      <td>False</td>\n",
       "      <td>False</td>\n",
       "    </tr>\n",
       "    <tr>\n",
       "      <th>5679</th>\n",
       "      <td>Burgbernheim-Wildbad</td>\n",
       "      <td>False</td>\n",
       "      <td>False</td>\n",
       "    </tr>\n",
       "    <tr>\n",
       "      <th>5835</th>\n",
       "      <td>Neustadt (Aisch) Mitte</td>\n",
       "      <td>False</td>\n",
       "      <td>False</td>\n",
       "    </tr>\n",
       "    <tr>\n",
       "      <th>6108</th>\n",
       "      <td>Grafling-Arzting</td>\n",
       "      <td>False</td>\n",
       "      <td>False</td>\n",
       "    </tr>\n",
       "    <tr>\n",
       "      <th>6354</th>\n",
       "      <td>Farchant</td>\n",
       "      <td>False</td>\n",
       "      <td>False</td>\n",
       "    </tr>\n",
       "    <tr>\n",
       "      <th>6366</th>\n",
       "      <td>Freilassing-Hofham</td>\n",
       "      <td>False</td>\n",
       "      <td>False</td>\n",
       "    </tr>\n",
       "    <tr>\n",
       "      <th>6387</th>\n",
       "      <td>Hinrichssegen</td>\n",
       "      <td>False</td>\n",
       "      <td>False</td>\n",
       "    </tr>\n",
       "    <tr>\n",
       "      <th>...</th>\n",
       "      <td>...</td>\n",
       "      <td>...</td>\n",
       "      <td>...</td>\n",
       "    </tr>\n",
       "    <tr>\n",
       "      <th>7997</th>\n",
       "      <td>Markkleeberg-Großstädteln</td>\n",
       "      <td>False</td>\n",
       "      <td>False</td>\n",
       "    </tr>\n",
       "    <tr>\n",
       "      <th>8583</th>\n",
       "      <td>Reinsdorf (b Nebra)</td>\n",
       "      <td>False</td>\n",
       "      <td>False</td>\n",
       "    </tr>\n",
       "    <tr>\n",
       "      <th>8671</th>\n",
       "      <td>Plauen (Vogtl) Mitte</td>\n",
       "      <td>False</td>\n",
       "      <td>False</td>\n",
       "    </tr>\n",
       "    <tr>\n",
       "      <th>8916</th>\n",
       "      <td>Gutach Freilichtmuseum</td>\n",
       "      <td>False</td>\n",
       "      <td>False</td>\n",
       "    </tr>\n",
       "    <tr>\n",
       "      <th>9424</th>\n",
       "      <td>Bad Rappenau Kurpark</td>\n",
       "      <td>False</td>\n",
       "      <td>False</td>\n",
       "    </tr>\n",
       "    <tr>\n",
       "      <th>9427</th>\n",
       "      <td>Bad Wimpfen im Tal</td>\n",
       "      <td>False</td>\n",
       "      <td>False</td>\n",
       "    </tr>\n",
       "    <tr>\n",
       "      <th>9482</th>\n",
       "      <td>Neckarsulm Mitte</td>\n",
       "      <td>False</td>\n",
       "      <td>False</td>\n",
       "    </tr>\n",
       "    <tr>\n",
       "      <th>9484</th>\n",
       "      <td>Neckarsulm Nord</td>\n",
       "      <td>False</td>\n",
       "      <td>False</td>\n",
       "    </tr>\n",
       "    <tr>\n",
       "      <th>9596</th>\n",
       "      <td>Bruchsal am Mantel</td>\n",
       "      <td>False</td>\n",
       "      <td>False</td>\n",
       "    </tr>\n",
       "    <tr>\n",
       "      <th>9598</th>\n",
       "      <td>Bruchsal Sportzentrum</td>\n",
       "      <td>False</td>\n",
       "      <td>False</td>\n",
       "    </tr>\n",
       "    <tr>\n",
       "      <th>9636</th>\n",
       "      <td>Grüntal/Wittlensweiler</td>\n",
       "      <td>False</td>\n",
       "      <td>False</td>\n",
       "    </tr>\n",
       "    <tr>\n",
       "      <th>9646</th>\n",
       "      <td>Horb-Heiligenfeld</td>\n",
       "      <td>False</td>\n",
       "      <td>False</td>\n",
       "    </tr>\n",
       "    <tr>\n",
       "      <th>9686</th>\n",
       "      <td>Malsch Süd</td>\n",
       "      <td>False</td>\n",
       "      <td>False</td>\n",
       "    </tr>\n",
       "    <tr>\n",
       "      <th>9693</th>\n",
       "      <td>Muggensturm-Badesee</td>\n",
       "      <td>False</td>\n",
       "      <td>False</td>\n",
       "    </tr>\n",
       "    <tr>\n",
       "      <th>9705</th>\n",
       "      <td>Nagold Stadtmitte</td>\n",
       "      <td>False</td>\n",
       "      <td>False</td>\n",
       "    </tr>\n",
       "    <tr>\n",
       "      <th>9706</th>\n",
       "      <td>Nagold-Iselshausen</td>\n",
       "      <td>False</td>\n",
       "      <td>False</td>\n",
       "    </tr>\n",
       "    <tr>\n",
       "      <th>9782</th>\n",
       "      <td>Mannheim ARENA / Maimarkt</td>\n",
       "      <td>False</td>\n",
       "      <td>False</td>\n",
       "    </tr>\n",
       "    <tr>\n",
       "      <th>9961</th>\n",
       "      <td>Magstadt</td>\n",
       "      <td>False</td>\n",
       "      <td>False</td>\n",
       "    </tr>\n",
       "    <tr>\n",
       "      <th>9964</th>\n",
       "      <td>Maichingen Nord</td>\n",
       "      <td>False</td>\n",
       "      <td>False</td>\n",
       "    </tr>\n",
       "    <tr>\n",
       "      <th>10000</th>\n",
       "      <td>Renningen Süd</td>\n",
       "      <td>False</td>\n",
       "      <td>False</td>\n",
       "    </tr>\n",
       "    <tr>\n",
       "      <th>10255</th>\n",
       "      <td>Rottenacker</td>\n",
       "      <td>False</td>\n",
       "      <td>False</td>\n",
       "    </tr>\n",
       "    <tr>\n",
       "      <th>10499</th>\n",
       "      <td>Bielefeld-Senne</td>\n",
       "      <td>False</td>\n",
       "      <td>False</td>\n",
       "    </tr>\n",
       "    <tr>\n",
       "      <th>10638</th>\n",
       "      <td>Alfter-Impekoven</td>\n",
       "      <td>False</td>\n",
       "      <td>False</td>\n",
       "    </tr>\n",
       "    <tr>\n",
       "      <th>10662</th>\n",
       "      <td>Bonn Helmholtzstraße</td>\n",
       "      <td>False</td>\n",
       "      <td>False</td>\n",
       "    </tr>\n",
       "    <tr>\n",
       "      <th>10673</th>\n",
       "      <td>Bonn-Endenich Nord</td>\n",
       "      <td>False</td>\n",
       "      <td>False</td>\n",
       "    </tr>\n",
       "    <tr>\n",
       "      <th>10711</th>\n",
       "      <td>Hennef Im Siegbogen</td>\n",
       "      <td>False</td>\n",
       "      <td>False</td>\n",
       "    </tr>\n",
       "    <tr>\n",
       "      <th>10744</th>\n",
       "      <td>Rheinbach Römerkanal</td>\n",
       "      <td>False</td>\n",
       "      <td>False</td>\n",
       "    </tr>\n",
       "    <tr>\n",
       "      <th>11468</th>\n",
       "      <td>Brilon Stadt</td>\n",
       "      <td>False</td>\n",
       "      <td>False</td>\n",
       "    </tr>\n",
       "    <tr>\n",
       "      <th>11565</th>\n",
       "      <td>Meinerzhagen</td>\n",
       "      <td>False</td>\n",
       "      <td>False</td>\n",
       "    </tr>\n",
       "    <tr>\n",
       "      <th>11885</th>\n",
       "      <td>Münster-Roxel</td>\n",
       "      <td>False</td>\n",
       "      <td>False</td>\n",
       "    </tr>\n",
       "  </tbody>\n",
       "</table>\n",
       "<p>85 rows × 3 columns</p>\n",
       "</div>"
      ],
      "text/plain": [
       "                        Bahnhofsname Nahverkehr Fernverkehr\n",
       "148                       Pfungstadt      False       False\n",
       "556              Annweiler-Sarnstall      False       False\n",
       "601                  Frankenthal-Süd      False       False\n",
       "679               Landau (Pfalz) Süd      False       False\n",
       "712                     Neustadt Süd      False       False\n",
       "795                Wörth Zügelstraße      False       False\n",
       "1329                        Dienheim      False       False\n",
       "1477                   Burbach Mitte      False       False\n",
       "2951               Oldenburg-Wechloy      False       False\n",
       "3013               Kirchhammelwarden      False       False\n",
       "3061                      Achterwehr      False       False\n",
       "3093                       Bredenbek      False       False\n",
       "3181                     Kiel-Russee      False       False\n",
       "3188                      Kronshagen      False       False\n",
       "3196         Lübeck Dänischburg IKEA      False       False\n",
       "3206       Lübeck Hochschulstadtteil      False       False\n",
       "3217                        Melsdorf      False       False\n",
       "3271                      Schülldorf      False       False\n",
       "3989                Blumberg-Rehhahn      False       False\n",
       "4299         Ludwigsfelde-Struveshof      False       False\n",
       "4373                      Zellendorf      False       False\n",
       "4409                       Langhagen      False       False\n",
       "4798   Graben (Lechfeld) Gewerbepark      False       False\n",
       "5488                 München-Freiham      False       False\n",
       "5679            Burgbernheim-Wildbad      False       False\n",
       "5835          Neustadt (Aisch) Mitte      False       False\n",
       "6108                Grafling-Arzting      False       False\n",
       "6354                        Farchant      False       False\n",
       "6366              Freilassing-Hofham      False       False\n",
       "6387                   Hinrichssegen      False       False\n",
       "...                              ...        ...         ...\n",
       "7997       Markkleeberg-Großstädteln      False       False\n",
       "8583             Reinsdorf (b Nebra)      False       False\n",
       "8671            Plauen (Vogtl) Mitte      False       False\n",
       "8916          Gutach Freilichtmuseum      False       False\n",
       "9424            Bad Rappenau Kurpark      False       False\n",
       "9427              Bad Wimpfen im Tal      False       False\n",
       "9482                Neckarsulm Mitte      False       False\n",
       "9484                 Neckarsulm Nord      False       False\n",
       "9596              Bruchsal am Mantel      False       False\n",
       "9598           Bruchsal Sportzentrum      False       False\n",
       "9636          Grüntal/Wittlensweiler      False       False\n",
       "9646               Horb-Heiligenfeld      False       False\n",
       "9686                      Malsch Süd      False       False\n",
       "9693             Muggensturm-Badesee      False       False\n",
       "9705               Nagold Stadtmitte      False       False\n",
       "9706              Nagold-Iselshausen      False       False\n",
       "9782       Mannheim ARENA / Maimarkt      False       False\n",
       "9961                        Magstadt      False       False\n",
       "9964                 Maichingen Nord      False       False\n",
       "10000                  Renningen Süd      False       False\n",
       "10255                    Rottenacker      False       False\n",
       "10499                Bielefeld-Senne      False       False\n",
       "10638               Alfter-Impekoven      False       False\n",
       "10662           Bonn Helmholtzstraße      False       False\n",
       "10673             Bonn-Endenich Nord      False       False\n",
       "10711            Hennef Im Siegbogen      False       False\n",
       "10744           Rheinbach Römerkanal      False       False\n",
       "11468                   Brilon Stadt      False       False\n",
       "11565                   Meinerzhagen      False       False\n",
       "11885                  Münster-Roxel      False       False\n",
       "\n",
       "[85 rows x 3 columns]"
      ]
     },
     "execution_count": 22,
     "metadata": {},
     "output_type": "execute_result"
    }
   ],
   "source": [
    "d.get_group((False, False))"
   ]
  }
 ],
 "metadata": {
  "kernelspec": {
   "display_name": "Python 2",
   "language": "python2",
   "name": "python2"
  },
  "language_info": {
   "codemirror_mode": {
    "name": "ipython",
    "version": 2
   },
   "file_extension": ".py",
   "mimetype": "text/x-python",
   "name": "python",
   "nbconvert_exporter": "python",
   "pygments_lexer": "ipython2",
   "version": "2.7.10"
  }
 },
 "nbformat": 4,
 "nbformat_minor": 0
}
