{
 "cells": [
  {
   "cell_type": "markdown",
   "metadata": {},
   "source": [
    "This Notebook needs https://github.com/mineo/mpd_pydb for reading MPDs database"
   ]
  },
  {
   "cell_type": "code",
   "execution_count": 1,
   "metadata": {
    "collapsed": false
   },
   "outputs": [
    {
     "name": "stdout",
     "output_type": "stream",
     "text": [
      "Populating the interactive namespace from numpy and matplotlib\n"
     ]
    }
   ],
   "source": [
    "%pylab inline\n",
    "matplotlib.style.use(\"ggplot\")\n",
    "import mpd_pydb as mpd\n",
    "from os.path import expanduser\n",
    "db = mpd.Database.read_file(expanduser(\"~/.mpd/mpd.db\"))\n",
    "df = db.to_dataframe()"
   ]
  },
  {
   "cell_type": "code",
   "execution_count": 2,
   "metadata": {
    "collapsed": false,
    "scrolled": true
   },
   "outputs": [
    {
     "data": {
      "text/html": [
       "<div style=\"max-height:1000px;max-width:1500px;overflow:auto;\">\n",
       "<table border=\"1\" class=\"dataframe\">\n",
       "  <thead>\n",
       "    <tr style=\"text-align: right;\">\n",
       "      <th></th>\n",
       "      <th>Album</th>\n",
       "      <th>Artist</th>\n",
       "      <th>AlbumArtist</th>\n",
       "      <th>Title</th>\n",
       "      <th>Date</th>\n",
       "    </tr>\n",
       "  </thead>\n",
       "  <tbody>\n",
       "    <tr>\n",
       "      <th>count</th>\n",
       "      <td>18026</td>\n",
       "      <td>18081</td>\n",
       "      <td>17901</td>\n",
       "      <td>18081</td>\n",
       "      <td>17310</td>\n",
       "    </tr>\n",
       "    <tr>\n",
       "      <th>unique</th>\n",
       "      <td>1495</td>\n",
       "      <td>3790</td>\n",
       "      <td>705</td>\n",
       "      <td>16695</td>\n",
       "      <td>997</td>\n",
       "    </tr>\n",
       "    <tr>\n",
       "      <th>top</th>\n",
       "      <td>A Traveler’s Guide to Space and Time</td>\n",
       "      <td>John Williams</td>\n",
       "      <td>Various Artists</td>\n",
       "      <td>Intro</td>\n",
       "      <td>2003</td>\n",
       "    </tr>\n",
       "    <tr>\n",
       "      <th>freq</th>\n",
       "      <td>168</td>\n",
       "      <td>311</td>\n",
       "      <td>2837</td>\n",
       "      <td>16</td>\n",
       "      <td>237</td>\n",
       "    </tr>\n",
       "  </tbody>\n",
       "</table>\n",
       "</div>"
      ],
      "text/plain": [
       "                                       Album         Artist      AlbumArtist  \\\n",
       "count                                  18026          18081            17901   \n",
       "unique                                  1495           3790              705   \n",
       "top     A Traveler’s Guide to Space and Time  John Williams  Various Artists   \n",
       "freq                                     168            311             2837   \n",
       "\n",
       "        Title   Date  \n",
       "count   18081  17310  \n",
       "unique  16695    997  \n",
       "top     Intro   2003  \n",
       "freq       16    237  "
      ]
     },
     "execution_count": 2,
     "metadata": {},
     "output_type": "execute_result"
    }
   ],
   "source": [
    "df[[\"Album\", \"Artist\", \"AlbumArtist\", \"Title\", \"Date\"]].describe()"
   ]
  },
  {
   "cell_type": "markdown",
   "metadata": {},
   "source": [
    "# Song length distribution"
   ]
  },
  {
   "cell_type": "code",
   "execution_count": 3,
   "metadata": {
    "collapsed": false
   },
   "outputs": [
    {
     "data": {
      "text/plain": [
       "count    18087.000000\n",
       "mean       216.902531\n",
       "std        121.816014\n",
       "min          0.026000\n",
       "25%        142.628000\n",
       "50%        209.763000\n",
       "75%        267.788500\n",
       "max       3445.440000\n",
       "Name: Time, dtype: float64"
      ]
     },
     "execution_count": 3,
     "metadata": {},
     "output_type": "execute_result"
    }
   ],
   "source": [
    "times = df[\"Time\"]\n",
    "times.describe()"
   ]
  },
  {
   "cell_type": "code",
   "execution_count": null,
   "metadata": {
    "collapsed": false,
    "scrolled": false
   },
   "outputs": [
    {
     "data": {
      "image/png": "[encoded data removed]",
      "text/plain": [
       "<matplotlib.figure.Figure at 0x7f67184b0f90>"
      ]
     },
     "metadata": {},
     "output_type": "display_data"
    }
   ],
   "source": [
    "fig, ax = plt.subplots()\n",
    "times.hist(ax=ax, bins=400)\n",
    "ax.set_xscale(\"symlog\", linthreshx=1000, linscalex=11)"
   ]
  },
  {
   "cell_type": "markdown",
   "metadata": {},
   "source": [
    "Ok, there seem be some very long songs in the DB, let's ignore them for now. We're going to limit the song length to 600 seconds (10 minutes)."
   ]
  },
  {
   "cell_type": "code",
   "execution_count": null,
   "metadata": {
    "collapsed": false
   },
   "outputs": [
    {
     "data": {
      "text/plain": [
       "(0.0, 125)"
      ]
     },
     "execution_count": 5,
     "metadata": {},
     "output_type": "execute_result"
    }
   ],
   "source": [
    "t = times[times <= 600]\n",
    "fig, ax = plt.subplots()\n",
    "t.hist(ax=ax, bins=600)\n",
    "ax.set_ylim(top=125)"
   ]
  },
  {
   "cell_type": "markdown",
   "metadata": {},
   "source": [
    "But let's also have a look at the songs longer than 600 seconds:"
   ]
  },
  {
   "cell_type": "code",
   "execution_count": null,
   "metadata": {
    "collapsed": false,
    "scrolled": true
   },
   "outputs": [],
   "source": [
    "t = times[times > 600]\n",
    "fig, ax = plt.subplots()\n",
    "t.hist(ax=ax, bins=80)"
   ]
  },
  {
   "cell_type": "markdown",
   "metadata": {},
   "source": [
    "# Duplicate tracks by recording id"
   ]
  },
  {
   "cell_type": "code",
   "execution_count": null,
   "metadata": {
    "collapsed": false
   },
   "outputs": [],
   "source": [
    "trs = df[[\"MUSICBRAINZ_TRACKID\", \"Artist\", \"Title\"]]\n",
    "trs[trs.duplicated(subset=[\"MUSICBRAINZ_TRACKID\"]) == True]"
   ]
  },
  {
   "cell_type": "markdown",
   "metadata": {},
   "source": [
    "# Release dates"
   ]
  },
  {
   "cell_type": "code",
   "execution_count": null,
   "metadata": {
    "collapsed": false,
    "scrolled": true
   },
   "outputs": [],
   "source": [
    "def date_to_year(series):\n",
    "    def conv(date):\n",
    "        if date is None:\n",
    "            return date\n",
    "        return int(date.split(\"-\")[0])\n",
    "    return series.apply(conv)\n",
    "date_data = df[[\"Date\", \"Album\"]]\n",
    "date_data = date_data.assign(Date=date_to_year(date_data[\"Date\"]))"
   ]
  },
  {
   "cell_type": "code",
   "execution_count": null,
   "metadata": {
    "collapsed": false
   },
   "outputs": [],
   "source": [
    "def plot_date_data(dates):\n",
    "    d = dates[\"Date\"]\n",
    "    min_date = d.min()\n",
    "    max_date = d.max()\n",
    "    d.hist(range=(min_date, max_date),\n",
    "                  bins=max_date-min_date)"
   ]
  },
  {
   "cell_type": "markdown",
   "metadata": {
    "collapsed": true
   },
   "source": [
    "## Release date histogram with dates from tracks\n",
    "\n",
    "Dates of albums with more tracks will have more impact on this plot"
   ]
  },
  {
   "cell_type": "code",
   "execution_count": null,
   "metadata": {
    "collapsed": false
   },
   "outputs": [],
   "source": [
    "date_data.describe()"
   ]
  },
  {
   "cell_type": "code",
   "execution_count": null,
   "metadata": {
    "collapsed": false,
    "scrolled": true
   },
   "outputs": [],
   "source": [
    "plot_date_data(date_data)"
   ]
  },
  {
   "cell_type": "markdown",
   "metadata": {
    "collapsed": true
   },
   "source": [
    "## Release date histogram with dates from albums\n",
    "\n",
    "First, select the distinct Album-Date data and then plot it."
   ]
  },
  {
   "cell_type": "code",
   "execution_count": null,
   "metadata": {
    "collapsed": false,
    "scrolled": true
   },
   "outputs": [],
   "source": [
    "new_date_data = date_data.drop_duplicates()\n",
    "new_date_data.describe()"
   ]
  },
  {
   "cell_type": "code",
   "execution_count": null,
   "metadata": {
    "collapsed": false,
    "scrolled": false
   },
   "outputs": [],
   "source": [
    "plot_date_data(new_date_data)"
   ]
  },
  {
   "cell_type": "markdown",
   "metadata": {},
   "source": [
    "# Amount of albums with unknown dates"
   ]
  },
  {
   "cell_type": "code",
   "execution_count": null,
   "metadata": {
    "collapsed": false
   },
   "outputs": [],
   "source": [
    "unknown_dates = new_date_data.assign(DateKnown=~np.isnan(new_date_data[\"Date\"]))\\\n",
    "    [[\"DateKnown\", \"Album\"]].\\\n",
    "    groupby([\"DateKnown\"]).\\\n",
    "    count()\n",
    "unknown_dates"
   ]
  },
  {
   "cell_type": "code",
   "execution_count": null,
   "metadata": {
    "collapsed": false,
    "scrolled": false
   },
   "outputs": [],
   "source": [
    "unknown_dates.plot(kind=\"pie\", subplots=True, figsize=(7,7))"
   ]
  },
  {
   "cell_type": "markdown",
   "metadata": {},
   "source": [
    "# Artist-Album relationships"
   ]
  },
  {
   "cell_type": "code",
   "execution_count": null,
   "metadata": {
    "collapsed": false,
    "scrolled": true
   },
   "outputs": [],
   "source": [
    "df[[\"Artist\", \"Album\"]].drop_duplicates().\\\n",
    "    groupby(\"Album\").count().sort([\"Artist\"], ascending=False)"
   ]
  },
  {
   "cell_type": "code",
   "execution_count": null,
   "metadata": {
    "collapsed": false,
    "scrolled": true
   },
   "outputs": [],
   "source": [
    "art_alb_data = df[[\"AlbumArtist\", \"Album\"]].drop_duplicates().\\\n",
    "    groupby(\"AlbumArtist\").count()"
   ]
  },
  {
   "cell_type": "code",
   "execution_count": null,
   "metadata": {
    "collapsed": false,
    "scrolled": true
   },
   "outputs": [],
   "source": [
    "art_alb_data.sort([\"Album\"], ascending=False)"
   ]
  },
  {
   "cell_type": "code",
   "execution_count": null,
   "metadata": {
    "collapsed": true
   },
   "outputs": [],
   "source": []
  }
 ],
 "metadata": {
  "kernelspec": {
   "display_name": "Python 2",
   "language": "python",
   "name": "python2"
  },
  "language_info": {
   "codemirror_mode": {
    "name": "ipython",
    "version": 2
   },
   "file_extension": ".py",
   "mimetype": "text/x-python",
   "name": "python",
   "nbconvert_exporter": "python",
   "pygments_lexer": "ipython2",
   "version": "2.7.9"
  }
 },
 "nbformat": 4,
 "nbformat_minor": 0
}
