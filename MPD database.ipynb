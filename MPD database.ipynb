{
 "cells": [
  {
   "cell_type": "markdown",
   "metadata": {},
   "source": [
    "This Notebook needs https://github.com/mineo/mpd_pydb for reading MPDs database"
   ]
  },
  {
   "cell_type": "code",
   "execution_count": 1,
   "metadata": {
    "collapsed": false
   },
   "outputs": [
    {
     "name": "stdout",
     "output_type": "stream",
     "text": [
      "Populating the interactive namespace from numpy and matplotlib\n"
     ]
    }
   ],
   "source": [
    "%pylab inline\n",
    "matplotlib.style.use(\"ggplot\")\n",
    "import mpd_pydb as mpd\n",
    "from os.path import expanduser\n",
    "db = mpd.Database.read_file(expanduser(\"~/.mpd/mpd.db\"))\n",
    "df = db.to_dataframe()"
   ]
  },
  {
   "cell_type": "code",
   "execution_count": 2,
   "metadata": {
    "collapsed": false
   },
   "outputs": [
    {
     "data": {
      "text/html": [
       "<div style=\"max-height:1000px;max-width:1500px;overflow:auto;\">\n",
       "<table border=\"1\" class=\"dataframe\">\n",
       "  <thead>\n",
       "    <tr style=\"text-align: right;\">\n",
       "      <th></th>\n",
       "      <th>Album</th>\n",
       "      <th>Artist</th>\n",
       "      <th>AlbumArtist</th>\n",
       "      <th>Title</th>\n",
       "      <th>Date</th>\n",
       "    </tr>\n",
       "  </thead>\n",
       "  <tbody>\n",
       "    <tr>\n",
       "      <th>count</th>\n",
       "      <td>18031</td>\n",
       "      <td>18086</td>\n",
       "      <td>17901</td>\n",
       "      <td>18086</td>\n",
       "      <td>17315</td>\n",
       "    </tr>\n",
       "    <tr>\n",
       "      <th>unique</th>\n",
       "      <td>1496</td>\n",
       "      <td>3791</td>\n",
       "      <td>705</td>\n",
       "      <td>16700</td>\n",
       "      <td>998</td>\n",
       "    </tr>\n",
       "    <tr>\n",
       "      <th>top</th>\n",
       "      <td>A Traveler’s Guide to Space and Time</td>\n",
       "      <td>John Williams</td>\n",
       "      <td>Various Artists</td>\n",
       "      <td>Intro</td>\n",
       "      <td>2003</td>\n",
       "    </tr>\n",
       "    <tr>\n",
       "      <th>freq</th>\n",
       "      <td>168</td>\n",
       "      <td>311</td>\n",
       "      <td>2837</td>\n",
       "      <td>16</td>\n",
       "      <td>237</td>\n",
       "    </tr>\n",
       "  </tbody>\n",
       "</table>\n",
       "</div>"
      ],
      "text/plain": [
       "                                       Album         Artist      AlbumArtist  \\\n",
       "count                                  18031          18086            17901   \n",
       "unique                                  1496           3791              705   \n",
       "top     A Traveler’s Guide to Space and Time  John Williams  Various Artists   \n",
       "freq                                     168            311             2837   \n",
       "\n",
       "        Title   Date  \n",
       "count   18086  17315  \n",
       "unique  16700    998  \n",
       "top     Intro   2003  \n",
       "freq       16    237  "
      ]
     },
     "execution_count": 2,
     "metadata": {},
     "output_type": "execute_result"
    }
   ],
   "source": [
    "df[[\"Album\", \"Artist\", \"AlbumArtist\", \"Title\", \"Date\"]].describe()"
   ]
  },
  {
   "cell_type": "markdown",
   "metadata": {},
   "source": [
    "# Song length distribution"
   ]
  },
  {
   "cell_type": "code",
   "execution_count": 3,
   "metadata": {
    "collapsed": false
   },
   "outputs": [
    {
     "data": {
      "text/plain": [
       "count    18092.000000\n",
       "mean       218.061650\n",
       "std        140.403164\n",
       "min          0.026000\n",
       "25%        142.634000\n",
       "50%        209.802000\n",
       "75%        267.875750\n",
       "max       4620.120000\n",
       "Name: Time, dtype: float64"
      ]
     },
     "execution_count": 3,
     "metadata": {},
     "output_type": "execute_result"
    }
   ],
   "source": [
    "times = df[\"Time\"]\n",
    "times.describe()"
   ]
  },
  {
   "cell_type": "code",
   "execution_count": 4,
   "metadata": {
    "collapsed": false,
    "scrolled": false
   },
   "outputs": [
    {
     "data": {
      "image/png": "[encoded data removed]",
      "text/plain": [
       "<matplotlib.figure.Figure at 0x7fc2206050d0>"
      ]
     },
     "metadata": {},
     "output_type": "display_data"
    }
   ],
   "source": [
    "fig, ax = plt.subplots()\n",
    "times.hist(ax=ax, bins=400)\n",
    "ax.set_xscale(\"symlog\", linthreshx=1000, linscalex=11)"
   ]
  },
  {
   "cell_type": "markdown",
   "metadata": {},
   "source": [
    "Ok, there seem be some very long songs in the DB, let's ignore them for now. We're going to limit the song length to 600 seconds (10 minutes)."
   ]
  },
  {
   "cell_type": "code",
   "execution_count": 5,
   "metadata": {
    "collapsed": false
   },
   "outputs": [
    {
     "data": {
      "text/plain": [
       "(0.0, 125)"
      ]
     },
     "execution_count": 5,
     "metadata": {},
     "output_type": "execute_result"
    },
    {
     "data": {
      "image/png": "[encoded data removed]",
      "text/plain": [
       "<matplotlib.figure.Figure at 0x7fc1ff359650>"
      ]
     },
     "metadata": {},
     "output_type": "display_data"
    }
   ],
   "source": [
    "fig, ax = plt.subplots()\n",
    "times.clip_upper(600).hist(ax=ax, bins=600)\n",
    "ax.set_ylim(top=125)"
   ]
  },
  {
   "cell_type": "markdown",
   "metadata": {},
   "source": [
    "# Release dates"
   ]
  },
  {
   "cell_type": "code",
   "execution_count": 6,
   "metadata": {
    "collapsed": false,
    "scrolled": true
   },
   "outputs": [],
   "source": [
    "def date_to_year(series):\n",
    "    def conv(date):\n",
    "        if date is None:\n",
    "            return date\n",
    "        return int(date.split(\"-\")[0])\n",
    "    return series.apply(conv)\n",
    "date_data = df[[\"Date\", \"Album\"]]\n",
    "date_data = date_data.assign(Date=date_to_year(date_data[\"Date\"]))"
   ]
  },
  {
   "cell_type": "code",
   "execution_count": 7,
   "metadata": {
    "collapsed": false
   },
   "outputs": [],
   "source": [
    "def plot_date_data(dates):\n",
    "    d = dates[\"Date\"]\n",
    "    min_date = d.min()\n",
    "    max_date = d.max()\n",
    "    d.hist(range=(min_date, max_date),\n",
    "                  bins=max_date-min_date)"
   ]
  },
  {
   "cell_type": "markdown",
   "metadata": {
    "collapsed": true
   },
   "source": [
    "## Release date histogram with dates from tracks\n",
    "\n",
    "Dates of albums with more tracks will have more impact on this plot"
   ]
  },
  {
   "cell_type": "code",
   "execution_count": 8,
   "metadata": {
    "collapsed": false
   },
   "outputs": [
    {
     "data": {
      "text/html": [
       "<div style=\"max-height:1000px;max-width:1500px;overflow:auto;\">\n",
       "<table border=\"1\" class=\"dataframe\">\n",
       "  <thead>\n",
       "    <tr style=\"text-align: right;\">\n",
       "      <th></th>\n",
       "      <th>Date</th>\n",
       "    </tr>\n",
       "  </thead>\n",
       "  <tbody>\n",
       "    <tr>\n",
       "      <th>count</th>\n",
       "      <td>17315.000000</td>\n",
       "    </tr>\n",
       "    <tr>\n",
       "      <th>mean</th>\n",
       "      <td>2007.724170</td>\n",
       "    </tr>\n",
       "    <tr>\n",
       "      <th>std</th>\n",
       "      <td>4.646786</td>\n",
       "    </tr>\n",
       "    <tr>\n",
       "      <th>min</th>\n",
       "      <td>1984.000000</td>\n",
       "    </tr>\n",
       "    <tr>\n",
       "      <th>25%</th>\n",
       "      <td>2005.000000</td>\n",
       "    </tr>\n",
       "    <tr>\n",
       "      <th>50%</th>\n",
       "      <td>2008.000000</td>\n",
       "    </tr>\n",
       "    <tr>\n",
       "      <th>75%</th>\n",
       "      <td>2011.000000</td>\n",
       "    </tr>\n",
       "    <tr>\n",
       "      <th>max</th>\n",
       "      <td>2015.000000</td>\n",
       "    </tr>\n",
       "  </tbody>\n",
       "</table>\n",
       "</div>"
      ],
      "text/plain": [
       "               Date\n",
       "count  17315.000000\n",
       "mean    2007.724170\n",
       "std        4.646786\n",
       "min     1984.000000\n",
       "25%     2005.000000\n",
       "50%     2008.000000\n",
       "75%     2011.000000\n",
       "max     2015.000000"
      ]
     },
     "execution_count": 8,
     "metadata": {},
     "output_type": "execute_result"
    }
   ],
   "source": [
    "date_data.describe()"
   ]
  },
  {
   "cell_type": "code",
   "execution_count": 9,
   "metadata": {
    "collapsed": false,
    "scrolled": true
   },
   "outputs": [
    {
     "data": {
      "image/png": "[encoded data removed]",
      "text/plain": [
       "<matplotlib.figure.Figure at 0x7fc1fe8f7290>"
      ]
     },
     "metadata": {},
     "output_type": "display_data"
    }
   ],
   "source": [
    "plot_date_data(date_data)"
   ]
  },
  {
   "cell_type": "markdown",
   "metadata": {
    "collapsed": true
   },
   "source": [
    "## Release date histogram with dates from albums\n",
    "\n",
    "First, select the distinct Album-Date data and then plot it."
   ]
  },
  {
   "cell_type": "code",
   "execution_count": 10,
   "metadata": {
    "collapsed": false,
    "scrolled": true
   },
   "outputs": [
    {
     "data": {
      "text/html": [
       "<div style=\"max-height:1000px;max-width:1500px;overflow:auto;\">\n",
       "<table border=\"1\" class=\"dataframe\">\n",
       "  <thead>\n",
       "    <tr style=\"text-align: right;\">\n",
       "      <th></th>\n",
       "      <th>Date</th>\n",
       "    </tr>\n",
       "  </thead>\n",
       "  <tbody>\n",
       "    <tr>\n",
       "      <th>count</th>\n",
       "      <td>1414.000000</td>\n",
       "    </tr>\n",
       "    <tr>\n",
       "      <th>mean</th>\n",
       "      <td>2006.801980</td>\n",
       "    </tr>\n",
       "    <tr>\n",
       "      <th>std</th>\n",
       "      <td>4.799781</td>\n",
       "    </tr>\n",
       "    <tr>\n",
       "      <th>min</th>\n",
       "      <td>1984.000000</td>\n",
       "    </tr>\n",
       "    <tr>\n",
       "      <th>25%</th>\n",
       "      <td>2004.250000</td>\n",
       "    </tr>\n",
       "    <tr>\n",
       "      <th>50%</th>\n",
       "      <td>2007.000000</td>\n",
       "    </tr>\n",
       "    <tr>\n",
       "      <th>75%</th>\n",
       "      <td>2010.000000</td>\n",
       "    </tr>\n",
       "    <tr>\n",
       "      <th>max</th>\n",
       "      <td>2015.000000</td>\n",
       "    </tr>\n",
       "  </tbody>\n",
       "</table>\n",
       "</div>"
      ],
      "text/plain": [
       "              Date\n",
       "count  1414.000000\n",
       "mean   2006.801980\n",
       "std       4.799781\n",
       "min    1984.000000\n",
       "25%    2004.250000\n",
       "50%    2007.000000\n",
       "75%    2010.000000\n",
       "max    2015.000000"
      ]
     },
     "execution_count": 10,
     "metadata": {},
     "output_type": "execute_result"
    }
   ],
   "source": [
    "new_date_data = date_data.drop_duplicates()\n",
    "new_date_data.describe()"
   ]
  },
  {
   "cell_type": "code",
   "execution_count": 11,
   "metadata": {
    "collapsed": false,
    "scrolled": false
   },
   "outputs": [
    {
     "data": {
      "image/png": "[encoded data removed]",
      "text/plain": [
       "<matplotlib.figure.Figure at 0x7fc1fe40e690>"
      ]
     },
     "metadata": {},
     "output_type": "display_data"
    }
   ],
   "source": [
    "plot_date_data(new_date_data)"
   ]
  },
  {
   "cell_type": "markdown",
   "metadata": {},
   "source": [
    "# Amount of albums with unknown dates"
   ]
  },
  {
   "cell_type": "code",
   "execution_count": 12,
   "metadata": {
    "collapsed": false
   },
   "outputs": [
    {
     "data": {
      "text/html": [
       "<div style=\"max-height:1000px;max-width:1500px;overflow:auto;\">\n",
       "<table border=\"1\" class=\"dataframe\">\n",
       "  <thead>\n",
       "    <tr style=\"text-align: right;\">\n",
       "      <th></th>\n",
       "      <th>Album</th>\n",
       "    </tr>\n",
       "    <tr>\n",
       "      <th>DateKnown</th>\n",
       "      <th></th>\n",
       "    </tr>\n",
       "  </thead>\n",
       "  <tbody>\n",
       "    <tr>\n",
       "      <th>False</th>\n",
       "      <td>96</td>\n",
       "    </tr>\n",
       "    <tr>\n",
       "      <th>True</th>\n",
       "      <td>1414</td>\n",
       "    </tr>\n",
       "  </tbody>\n",
       "</table>\n",
       "</div>"
      ],
      "text/plain": [
       "           Album\n",
       "DateKnown       \n",
       "False         96\n",
       "True        1414"
      ]
     },
     "execution_count": 12,
     "metadata": {},
     "output_type": "execute_result"
    }
   ],
   "source": [
    "unknown_dates = new_date_data.assign(DateKnown=~np.isnan(new_date_data[\"Date\"]))\\\n",
    "    [[\"DateKnown\", \"Album\"]].\\\n",
    "    groupby([\"DateKnown\"]).\\\n",
    "    count()\n",
    "unknown_dates"
   ]
  },
  {
   "cell_type": "code",
   "execution_count": 13,
   "metadata": {
    "collapsed": false,
    "scrolled": false
   },
   "outputs": [
    {
     "data": {
      "text/plain": [
       "array([<matplotlib.axes._subplots.AxesSubplot object at 0x7fc1ff056950>], dtype=object)"
      ]
     },
     "execution_count": 13,
     "metadata": {},
     "output_type": "execute_result"
    },
    {
     "data": {
      "image/png": "[encoded data removed]",
      "text/plain": [
       "<matplotlib.figure.Figure at 0x7fc1fe4544d0>"
      ]
     },
     "metadata": {},
     "output_type": "display_data"
    }
   ],
   "source": [
    "unknown_dates.plot(kind=\"pie\", subplots=True, figsize=(7,7))"
   ]
  },
  {
   "cell_type": "markdown",
   "metadata": {},
   "source": [
    "# Artist-Album relationships"
   ]
  },
  {
   "cell_type": "code",
   "execution_count": 14,
   "metadata": {
    "collapsed": false,
    "scrolled": true
   },
   "outputs": [
    {
     "data": {
      "text/html": [
       "<div style=\"max-height:1000px;max-width:1500px;overflow:auto;\">\n",
       "<table border=\"1\" class=\"dataframe\">\n",
       "  <thead>\n",
       "    <tr style=\"text-align: right;\">\n",
       "      <th></th>\n",
       "      <th>Artist</th>\n",
       "    </tr>\n",
       "    <tr>\n",
       "      <th>Album</th>\n",
       "      <th></th>\n",
       "    </tr>\n",
       "  </thead>\n",
       "  <tbody>\n",
       "    <tr>\n",
       "      <th>Harmony of Heroes</th>\n",
       "      <td>76</td>\n",
       "    </tr>\n",
       "    <tr>\n",
       "      <th>Donkey Kong Country 3: Double the Trouble!</th>\n",
       "      <td>63</td>\n",
       "    </tr>\n",
       "    <tr>\n",
       "      <th>Final Fantasy VI: Balance and Ruin</th>\n",
       "      <td>59</td>\n",
       "    </tr>\n",
       "    <tr>\n",
       "      <th>111 Years of Deutsche Grammophon</th>\n",
       "      <td>59</td>\n",
       "    </tr>\n",
       "    <tr>\n",
       "      <th>Varèse Sarabande: A 30th Anniversary Celebration</th>\n",
       "      <td>56</td>\n",
       "    </tr>\n",
       "    <tr>\n",
       "      <th>Chiptunes = WIN: Volume 3</th>\n",
       "      <td>51</td>\n",
       "    </tr>\n",
       "    <tr>\n",
       "      <th>Chiptunes = WIN \\m|♥|m/</th>\n",
       "      <td>51</td>\n",
       "    </tr>\n",
       "    <tr>\n",
       "      <th>Chiptunes = WIN, Volume 2</th>\n",
       "      <td>51</td>\n",
       "    </tr>\n",
       "    <tr>\n",
       "      <th>Wild Arms: ARMed and DANGerous</th>\n",
       "      <td>49</td>\n",
       "    </tr>\n",
       "    <tr>\n",
       "      <th>Varèse Sarabande: A 35th Anniversary Celebration</th>\n",
       "      <td>48</td>\n",
       "    </tr>\n",
       "    <tr>\n",
       "      <th>Mega Man X: Maverick Rising</th>\n",
       "      <td>42</td>\n",
       "    </tr>\n",
       "    <tr>\n",
       "      <th>Songs for the Cure '10</th>\n",
       "      <td>42</td>\n",
       "    </tr>\n",
       "    <tr>\n",
       "      <th>Summoning of Spirits</th>\n",
       "      <td>41</td>\n",
       "    </tr>\n",
       "    <tr>\n",
       "      <th>Spectrum of Mana</th>\n",
       "      <td>40</td>\n",
       "    </tr>\n",
       "    <tr>\n",
       "      <th>Final Fantasy IV: Echoes of Betrayal, Light of Redemption</th>\n",
       "      <td>40</td>\n",
       "    </tr>\n",
       "    <tr>\n",
       "      <th>Open Music Contest #4: Thistleblower</th>\n",
       "      <td>40</td>\n",
       "    </tr>\n",
       "    <tr>\n",
       "      <th>Ministry of Sound: The Annual 2008</th>\n",
       "      <td>40</td>\n",
       "    </tr>\n",
       "    <tr>\n",
       "      <th>Open Music Contest #3: By Perseverance the Snail Reached Art</th>\n",
       "      <td>36</td>\n",
       "    </tr>\n",
       "    <tr>\n",
       "      <th>Sonic CD: Temporal Duality</th>\n",
       "      <td>36</td>\n",
       "    </tr>\n",
       "    <tr>\n",
       "      <th>Harmony of a Hunter: 101% Run</th>\n",
       "      <td>35</td>\n",
       "    </tr>\n",
       "    <tr>\n",
       "      <th>Absolute Rock Ballads Classics</th>\n",
       "      <td>34</td>\n",
       "    </tr>\n",
       "    <tr>\n",
       "      <th>Forrest Gump: The Soundtrack</th>\n",
       "      <td>34</td>\n",
       "    </tr>\n",
       "    <tr>\n",
       "      <th>Humans + Gears: Xenogears ReMixed</th>\n",
       "      <td>30</td>\n",
       "    </tr>\n",
       "    <tr>\n",
       "      <th>A State of Trance 2008</th>\n",
       "      <td>29</td>\n",
       "    </tr>\n",
       "    <tr>\n",
       "      <th>Donkey Kong Country 2: Diddy's Kong Quest: Serious Monkey Business</th>\n",
       "      <td>28</td>\n",
       "    </tr>\n",
       "    <tr>\n",
       "      <th>Need for Speed: Undercover</th>\n",
       "      <td>27</td>\n",
       "    </tr>\n",
       "    <tr>\n",
       "      <th>Need for Speed Underground 2</th>\n",
       "      <td>27</td>\n",
       "    </tr>\n",
       "    <tr>\n",
       "      <th>A State of Trance 2006</th>\n",
       "      <td>27</td>\n",
       "    </tr>\n",
       "    <tr>\n",
       "      <th>A State of Trance 2004</th>\n",
       "      <td>26</td>\n",
       "    </tr>\n",
       "    <tr>\n",
       "      <th>Harmony of Heroes: Final Smash</th>\n",
       "      <td>26</td>\n",
       "    </tr>\n",
       "    <tr>\n",
       "      <th>...</th>\n",
       "      <td>...</td>\n",
       "    </tr>\n",
       "    <tr>\n",
       "      <th>Hunter x Hunter (2011)</th>\n",
       "      <td>1</td>\n",
       "    </tr>\n",
       "    <tr>\n",
       "      <th>Icarus</th>\n",
       "      <td>1</td>\n",
       "    </tr>\n",
       "    <tr>\n",
       "      <th>Human After All</th>\n",
       "      <td>1</td>\n",
       "    </tr>\n",
       "    <tr>\n",
       "      <th>Hot Fuss</th>\n",
       "      <td>1</td>\n",
       "    </tr>\n",
       "    <tr>\n",
       "      <th>Hot Dog City OST</th>\n",
       "      <td>1</td>\n",
       "    </tr>\n",
       "    <tr>\n",
       "      <th>Hope</th>\n",
       "      <td>1</td>\n",
       "    </tr>\n",
       "    <tr>\n",
       "      <th>Homewerks</th>\n",
       "      <td>1</td>\n",
       "    </tr>\n",
       "    <tr>\n",
       "      <th>Home</th>\n",
       "      <td>1</td>\n",
       "    </tr>\n",
       "    <tr>\n",
       "      <th>Hologram</th>\n",
       "      <td>1</td>\n",
       "    </tr>\n",
       "    <tr>\n",
       "      <th>I'll Have You Naked by the End of This ROM</th>\n",
       "      <td>1</td>\n",
       "    </tr>\n",
       "    <tr>\n",
       "      <th>Ich komme…!</th>\n",
       "      <td>1</td>\n",
       "    </tr>\n",
       "    <tr>\n",
       "      <th>Indestructible</th>\n",
       "      <td>1</td>\n",
       "    </tr>\n",
       "    <tr>\n",
       "      <th>In Search of Sunrise 4: Latin America</th>\n",
       "      <td>1</td>\n",
       "    </tr>\n",
       "    <tr>\n",
       "      <th>In the Wake of Determination</th>\n",
       "      <td>1</td>\n",
       "    </tr>\n",
       "    <tr>\n",
       "      <th>In the Mix: Revival</th>\n",
       "      <td>1</td>\n",
       "    </tr>\n",
       "    <tr>\n",
       "      <th>In and Out of Love</th>\n",
       "      <td>1</td>\n",
       "    </tr>\n",
       "    <tr>\n",
       "      <th>In Your Ear 5</th>\n",
       "      <td>1</td>\n",
       "    </tr>\n",
       "    <tr>\n",
       "      <th>In This Life [2008]</th>\n",
       "      <td>1</td>\n",
       "    </tr>\n",
       "    <tr>\n",
       "      <th>In Stereo</th>\n",
       "      <td>1</td>\n",
       "    </tr>\n",
       "    <tr>\n",
       "      <th>In Silico</th>\n",
       "      <td>1</td>\n",
       "    </tr>\n",
       "    <tr>\n",
       "      <th>In My Arms</th>\n",
       "      <td>1</td>\n",
       "    </tr>\n",
       "    <tr>\n",
       "      <th>Ich will hier raus</th>\n",
       "      <td>1</td>\n",
       "    </tr>\n",
       "    <tr>\n",
       "      <th>Impeccable Micro</th>\n",
       "      <td>1</td>\n",
       "    </tr>\n",
       "    <tr>\n",
       "      <th>Imagine</th>\n",
       "      <td>1</td>\n",
       "    </tr>\n",
       "    <tr>\n",
       "      <th>Ilomilo (Original Soundtrack)</th>\n",
       "      <td>1</td>\n",
       "    </tr>\n",
       "    <tr>\n",
       "      <th>Illusions EP</th>\n",
       "      <td>1</td>\n",
       "    </tr>\n",
       "    <tr>\n",
       "      <th>If We Could Only See Us Now</th>\n",
       "      <td>1</td>\n",
       "    </tr>\n",
       "    <tr>\n",
       "      <th>Idolator</th>\n",
       "      <td>1</td>\n",
       "    </tr>\n",
       "    <tr>\n",
       "      <th>Iconoclast, Part 1: The Final Resistance</th>\n",
       "      <td>1</td>\n",
       "    </tr>\n",
       "    <tr>\n",
       "      <th>Moondogs and Other Toy Animals</th>\n",
       "      <td>1</td>\n",
       "    </tr>\n",
       "  </tbody>\n",
       "</table>\n",
       "<p>1496 rows × 1 columns</p>\n",
       "</div>"
      ],
      "text/plain": [
       "                                                    Artist\n",
       "Album                                                     \n",
       "Harmony of Heroes                                       76\n",
       "Donkey Kong Country 3: Double the Trouble!              63\n",
       "Final Fantasy VI: Balance and Ruin                      59\n",
       "111 Years of Deutsche Grammophon                        59\n",
       "Varèse Sarabande: A 30th Anniversary Celebration        56\n",
       "Chiptunes = WIN: Volume 3                               51\n",
       "Chiptunes = WIN \\m|♥|m/                                 51\n",
       "Chiptunes = WIN, Volume 2                               51\n",
       "Wild Arms: ARMed and DANGerous                          49\n",
       "Varèse Sarabande: A 35th Anniversary Celebration        48\n",
       "Mega Man X: Maverick Rising                             42\n",
       "Songs for the Cure '10                                  42\n",
       "Summoning of Spirits                                    41\n",
       "Spectrum of Mana                                        40\n",
       "Final Fantasy IV: Echoes of Betrayal, Light of ...      40\n",
       "Open Music Contest #4: Thistleblower                    40\n",
       "Ministry of Sound: The Annual 2008                      40\n",
       "Open Music Contest #3: By Perseverance the Snai...      36\n",
       "Sonic CD: Temporal Duality                              36\n",
       "Harmony of a Hunter: 101% Run                           35\n",
       "Absolute Rock Ballads Classics                          34\n",
       "Forrest Gump: The Soundtrack                            34\n",
       "Humans + Gears: Xenogears ReMixed                       30\n",
       "A State of Trance 2008                                  29\n",
       "Donkey Kong Country 2: Diddy's Kong Quest: Seri...      28\n",
       "Need for Speed: Undercover                              27\n",
       "Need for Speed Underground 2                            27\n",
       "A State of Trance 2006                                  27\n",
       "A State of Trance 2004                                  26\n",
       "Harmony of Heroes: Final Smash                          26\n",
       "...                                                    ...\n",
       "Hunter x Hunter (2011)                                   1\n",
       "Icarus                                                   1\n",
       "Human After All                                          1\n",
       "Hot Fuss                                                 1\n",
       "Hot Dog City OST                                         1\n",
       "Hope                                                     1\n",
       "Homewerks                                                1\n",
       "Home                                                     1\n",
       "Hologram                                                 1\n",
       "I'll Have You Naked by the End of This ROM               1\n",
       "Ich komme…!                                              1\n",
       "Indestructible                                           1\n",
       "In Search of Sunrise 4: Latin America                    1\n",
       "In the Wake of Determination                             1\n",
       "In the Mix: Revival                                      1\n",
       "In and Out of Love                                       1\n",
       "In Your Ear 5                                            1\n",
       "In This Life [2008]                                      1\n",
       "In Stereo                                                1\n",
       "In Silico                                                1\n",
       "In My Arms                                               1\n",
       "Ich will hier raus                                       1\n",
       "Impeccable Micro                                         1\n",
       "Imagine                                                  1\n",
       "Ilomilo (Original Soundtrack)                            1\n",
       "Illusions EP                                             1\n",
       "If We Could Only See Us Now                              1\n",
       "Idolator                                                 1\n",
       "Iconoclast, Part 1: The Final Resistance                 1\n",
       "Moondogs and Other Toy Animals                           1\n",
       "\n",
       "[1496 rows x 1 columns]"
      ]
     },
     "execution_count": 14,
     "metadata": {},
     "output_type": "execute_result"
    }
   ],
   "source": [
    "df[[\"Artist\", \"Album\"]].drop_duplicates().\\\n",
    "    groupby(\"Album\").count().sort([\"Artist\"], ascending=False)"
   ]
  },
  {
   "cell_type": "code",
   "execution_count": 17,
   "metadata": {
    "collapsed": false,
    "scrolled": true
   },
   "outputs": [],
   "source": [
    "art_alb_data = df[[\"AlbumArtist\", \"Album\"]].drop_duplicates().\\\n",
    "    groupby(\"AlbumArtist\").count()"
   ]
  },
  {
   "cell_type": "code",
   "execution_count": 16,
   "metadata": {
    "collapsed": false,
    "scrolled": true
   },
   "outputs": [
    {
     "data": {
      "text/html": [
       "<div style=\"max-height:1000px;max-width:1500px;overflow:auto;\">\n",
       "<table border=\"1\" class=\"dataframe\">\n",
       "  <thead>\n",
       "    <tr style=\"text-align: right;\">\n",
       "      <th></th>\n",
       "      <th>Album</th>\n",
       "    </tr>\n",
       "    <tr>\n",
       "      <th>AlbumArtist</th>\n",
       "      <th></th>\n",
       "    </tr>\n",
       "  </thead>\n",
       "  <tbody>\n",
       "    <tr>\n",
       "      <th>Various Artists</th>\n",
       "      <td>239</td>\n",
       "    </tr>\n",
       "    <tr>\n",
       "      <th>OverClocked ReMix</th>\n",
       "      <td>38</td>\n",
       "    </tr>\n",
       "    <tr>\n",
       "      <th>Zelda Reorchestrated</th>\n",
       "      <td>12</td>\n",
       "    </tr>\n",
       "    <tr>\n",
       "      <th>Binärpilot</th>\n",
       "      <td>12</td>\n",
       "    </tr>\n",
       "    <tr>\n",
       "      <th>Disasterpeace</th>\n",
       "      <td>11</td>\n",
       "    </tr>\n",
       "    <tr>\n",
       "      <th>The Prodigy</th>\n",
       "      <td>11</td>\n",
       "    </tr>\n",
       "    <tr>\n",
       "      <th>Armin van Buuren</th>\n",
       "      <td>10</td>\n",
       "    </tr>\n",
       "    <tr>\n",
       "      <th>John Williams</th>\n",
       "      <td>10</td>\n",
       "    </tr>\n",
       "    <tr>\n",
       "      <th>Rammstein</th>\n",
       "      <td>10</td>\n",
       "    </tr>\n",
       "    <tr>\n",
       "      <th>Chiptunes = WIN \\m|♥|m/</th>\n",
       "      <td>9</td>\n",
       "    </tr>\n",
       "    <tr>\n",
       "      <th>Professor Kliq</th>\n",
       "      <td>8</td>\n",
       "    </tr>\n",
       "    <tr>\n",
       "      <th>J.B.O.</th>\n",
       "      <td>8</td>\n",
       "    </tr>\n",
       "    <tr>\n",
       "      <th>Bush</th>\n",
       "      <td>7</td>\n",
       "    </tr>\n",
       "    <tr>\n",
       "      <th>FatalExceptionID</th>\n",
       "      <td>7</td>\n",
       "    </tr>\n",
       "    <tr>\n",
       "      <th>Die Apokalyptischen Reiter</th>\n",
       "      <td>7</td>\n",
       "    </tr>\n",
       "    <tr>\n",
       "      <th>Hans Zimmer</th>\n",
       "      <td>7</td>\n",
       "    </tr>\n",
       "    <tr>\n",
       "      <th>Martin O’Donnell &amp; Michael Salvatori</th>\n",
       "      <td>7</td>\n",
       "    </tr>\n",
       "    <tr>\n",
       "      <th>Genesis</th>\n",
       "      <td>7</td>\n",
       "    </tr>\n",
       "    <tr>\n",
       "      <th>Static‐X</th>\n",
       "      <td>7</td>\n",
       "    </tr>\n",
       "    <tr>\n",
       "      <th>Daft Punk</th>\n",
       "      <td>6</td>\n",
       "    </tr>\n",
       "    <tr>\n",
       "      <th>Gorillaz</th>\n",
       "      <td>6</td>\n",
       "    </tr>\n",
       "    <tr>\n",
       "      <th>Machinae Supremacy</th>\n",
       "      <td>6</td>\n",
       "    </tr>\n",
       "    <tr>\n",
       "      <th>Michael Giacchino</th>\n",
       "      <td>6</td>\n",
       "    </tr>\n",
       "    <tr>\n",
       "      <th>Kämmerer</th>\n",
       "      <td>6</td>\n",
       "    </tr>\n",
       "    <tr>\n",
       "      <th>Nullsleep</th>\n",
       "      <td>6</td>\n",
       "    </tr>\n",
       "    <tr>\n",
       "      <th>System of a Down</th>\n",
       "      <td>6</td>\n",
       "    </tr>\n",
       "    <tr>\n",
       "      <th>Tiësto</th>\n",
       "      <td>5</td>\n",
       "    </tr>\n",
       "    <tr>\n",
       "      <th>Enya</th>\n",
       "      <td>5</td>\n",
       "    </tr>\n",
       "    <tr>\n",
       "      <th>Electric Six</th>\n",
       "      <td>5</td>\n",
       "    </tr>\n",
       "    <tr>\n",
       "      <th>The Cinematic Orchestra</th>\n",
       "      <td>5</td>\n",
       "    </tr>\n",
       "    <tr>\n",
       "      <th>...</th>\n",
       "      <td>...</td>\n",
       "    </tr>\n",
       "    <tr>\n",
       "      <th>Kartmaze</th>\n",
       "      <td>1</td>\n",
       "    </tr>\n",
       "    <tr>\n",
       "      <th>Kassin</th>\n",
       "      <td>1</td>\n",
       "    </tr>\n",
       "    <tr>\n",
       "      <th>Katzenjammer</th>\n",
       "      <td>1</td>\n",
       "    </tr>\n",
       "    <tr>\n",
       "      <th>Kazami</th>\n",
       "      <td>1</td>\n",
       "    </tr>\n",
       "    <tr>\n",
       "      <th>Keane</th>\n",
       "      <td>1</td>\n",
       "    </tr>\n",
       "    <tr>\n",
       "      <th>Keimzeit</th>\n",
       "      <td>1</td>\n",
       "    </tr>\n",
       "    <tr>\n",
       "      <th>Kendra Springer</th>\n",
       "      <td>1</td>\n",
       "    </tr>\n",
       "    <tr>\n",
       "      <th>Kenneth Edward Keyn</th>\n",
       "      <td>1</td>\n",
       "    </tr>\n",
       "    <tr>\n",
       "      <th>Kevin Kiner</th>\n",
       "      <td>1</td>\n",
       "    </tr>\n",
       "    <tr>\n",
       "      <th>Kirsty Hawkshaw meets Tenishia</th>\n",
       "      <td>1</td>\n",
       "    </tr>\n",
       "    <tr>\n",
       "      <th>Klaus Badelt &amp; Hans Zimmer</th>\n",
       "      <td>1</td>\n",
       "    </tr>\n",
       "    <tr>\n",
       "      <th>John Boswell</th>\n",
       "      <td>1</td>\n",
       "    </tr>\n",
       "    <tr>\n",
       "      <th>John Barry</th>\n",
       "      <td>1</td>\n",
       "    </tr>\n",
       "    <tr>\n",
       "      <th>Johannes Brahms, Robert Schumann; Anne-Sophie Mutter, New York Philharmonic, Kurt Masur</th>\n",
       "      <td>1</td>\n",
       "    </tr>\n",
       "    <tr>\n",
       "      <th>Jeremy Soule</th>\n",
       "      <td>1</td>\n",
       "    </tr>\n",
       "    <tr>\n",
       "      <th>James Dean</th>\n",
       "      <td>1</td>\n",
       "    </tr>\n",
       "    <tr>\n",
       "      <th>Jason Garner &amp; Vince de Vera</th>\n",
       "      <td>1</td>\n",
       "    </tr>\n",
       "    <tr>\n",
       "      <th>Jason Graves</th>\n",
       "      <td>1</td>\n",
       "    </tr>\n",
       "    <tr>\n",
       "      <th>Jay Gruska &amp; Christopher Lennertz</th>\n",
       "      <td>1</td>\n",
       "    </tr>\n",
       "    <tr>\n",
       "      <th>Jeff Buckley</th>\n",
       "      <td>1</td>\n",
       "    </tr>\n",
       "    <tr>\n",
       "      <th>Jefferson Airplane</th>\n",
       "      <td>1</td>\n",
       "    </tr>\n",
       "    <tr>\n",
       "      <th>Jerry Goldsmith</th>\n",
       "      <td>1</td>\n",
       "    </tr>\n",
       "    <tr>\n",
       "      <th>Johan de Meij; London Symphony Orchestra, David Warble</th>\n",
       "      <td>1</td>\n",
       "    </tr>\n",
       "    <tr>\n",
       "      <th>Jesse Hopkins</th>\n",
       "      <td>1</td>\n",
       "    </tr>\n",
       "    <tr>\n",
       "      <th>Jessica Curry</th>\n",
       "      <td>1</td>\n",
       "    </tr>\n",
       "    <tr>\n",
       "      <th>Jim Guthrie</th>\n",
       "      <td>1</td>\n",
       "    </tr>\n",
       "    <tr>\n",
       "      <th>Joakim Sandberg</th>\n",
       "      <td>1</td>\n",
       "    </tr>\n",
       "    <tr>\n",
       "      <th>Jochen Hippel</th>\n",
       "      <td>1</td>\n",
       "    </tr>\n",
       "    <tr>\n",
       "      <th>Joel Nielsen</th>\n",
       "      <td>1</td>\n",
       "    </tr>\n",
       "    <tr>\n",
       "      <th>酒井ミキオ</th>\n",
       "      <td>1</td>\n",
       "    </tr>\n",
       "  </tbody>\n",
       "</table>\n",
       "<p>705 rows × 1 columns</p>\n",
       "</div>"
      ],
      "text/plain": [
       "                                                    Album\n",
       "AlbumArtist                                              \n",
       "Various Artists                                       239\n",
       "OverClocked ReMix                                      38\n",
       "Zelda Reorchestrated                                   12\n",
       "Binärpilot                                             12\n",
       "Disasterpeace                                          11\n",
       "The Prodigy                                            11\n",
       "Armin van Buuren                                       10\n",
       "John Williams                                          10\n",
       "Rammstein                                              10\n",
       "Chiptunes = WIN \\m|♥|m/                                 9\n",
       "Professor Kliq                                          8\n",
       "J.B.O.                                                  8\n",
       "Bush                                                    7\n",
       "FatalExceptionID                                        7\n",
       "Die Apokalyptischen Reiter                              7\n",
       "Hans Zimmer                                             7\n",
       "Martin O’Donnell & Michael Salvatori                    7\n",
       "Genesis                                                 7\n",
       "Static‐X                                                7\n",
       "Daft Punk                                               6\n",
       "Gorillaz                                                6\n",
       "Machinae Supremacy                                      6\n",
       "Michael Giacchino                                       6\n",
       "Kämmerer                                                6\n",
       "Nullsleep                                               6\n",
       "System of a Down                                        6\n",
       "Tiësto                                                  5\n",
       "Enya                                                    5\n",
       "Electric Six                                            5\n",
       "The Cinematic Orchestra                                 5\n",
       "...                                                   ...\n",
       "Kartmaze                                                1\n",
       "Kassin                                                  1\n",
       "Katzenjammer                                            1\n",
       "Kazami                                                  1\n",
       "Keane                                                   1\n",
       "Keimzeit                                                1\n",
       "Kendra Springer                                         1\n",
       "Kenneth Edward Keyn                                     1\n",
       "Kevin Kiner                                             1\n",
       "Kirsty Hawkshaw meets Tenishia                          1\n",
       "Klaus Badelt & Hans Zimmer                              1\n",
       "John Boswell                                            1\n",
       "John Barry                                              1\n",
       "Johannes Brahms, Robert Schumann; Anne-Sophie M...      1\n",
       "Jeremy Soule                                            1\n",
       "James Dean                                              1\n",
       "Jason Garner & Vince de Vera                            1\n",
       "Jason Graves                                            1\n",
       "Jay Gruska & Christopher Lennertz                       1\n",
       "Jeff Buckley                                            1\n",
       "Jefferson Airplane                                      1\n",
       "Jerry Goldsmith                                         1\n",
       "Johan de Meij; London Symphony Orchestra, David...      1\n",
       "Jesse Hopkins                                           1\n",
       "Jessica Curry                                           1\n",
       "Jim Guthrie                                             1\n",
       "Joakim Sandberg                                         1\n",
       "Jochen Hippel                                           1\n",
       "Joel Nielsen                                            1\n",
       "酒井ミキオ                                                   1\n",
       "\n",
       "[705 rows x 1 columns]"
      ]
     },
     "execution_count": 16,
     "metadata": {},
     "output_type": "execute_result"
    }
   ],
   "source": [
    "art_alb_data.sort([\"Album\"], ascending=False)"
   ]
  },
  {
   "cell_type": "code",
   "execution_count": null,
   "metadata": {
    "collapsed": true
   },
   "outputs": [],
   "source": []
  }
 ],
 "metadata": {
  "kernelspec": {
   "display_name": "Python 2",
   "language": "python",
   "name": "python2"
  },
  "language_info": {
   "codemirror_mode": {
    "name": "ipython",
    "version": 2
   },
   "file_extension": ".py",
   "mimetype": "text/x-python",
   "name": "python",
   "nbconvert_exporter": "python",
   "pygments_lexer": "ipython2",
   "version": "2.7.9"
  }
 },
 "nbformat": 4,
 "nbformat_minor": 0
}
